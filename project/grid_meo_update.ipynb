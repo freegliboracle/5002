{
 "cells": [
  {
   "cell_type": "code",
   "execution_count": 1,
   "metadata": {},
   "outputs": [],
   "source": [
    "import os\n",
    "import datetime\n",
    "import numpy as np\n",
    "import pandas as pd"
   ]
  },
  {
   "cell_type": "code",
   "execution_count": 2,
   "metadata": {},
   "outputs": [],
   "source": [
    "# grid meo\n",
    "data_path = './data/'"
   ]
  },
  {
   "cell_type": "code",
   "execution_count": null,
   "metadata": {},
   "outputs": [],
   "source": [
    "def update_meo_grid():\n",
    "    meo_grid_1718 = pd.read_csv(data_path + 'gridWeather_201701-201803.csv')\n",
    "    meo_grid_1804 = pd.read_csv(data_path + 'gridWeather_201804.csv')\n",
    "    meo_grid_1805 = pd.read_csv(data_path + 'gridWeather_20180501-20180502.csv')\n",
    "    meo_grid = meo_grid_1718.append(meo_grid_1804).append(meo_grid_1805)\n",
    "    meo_grid.rename(columns={'stationName':'station_name','utc_time':'time'},inplace=True)\n",
    "#     remove duplicated rows by considering station_name and time\n",
    "    meo_grid = meo_grid.append(meo_grid).drop_duplicates(['station_name','time'])\n",
    "#     check if there is missing value for station_names\n",
    "    meo_grid = meo_grid[~meo_grid['station_name'].isnull()]\n",
    "    meo_grid.to_hdf(data_path+'meo_grid.hdf','w', complib='blosc', complevel=5)\n",
    "    print('meo grid data update done...')\n",
    "\n",
    "update_meo_grid()"
   ]
  },
  {
   "cell_type": "code",
   "execution_count": 21,
   "metadata": {},
   "outputs": [
    {
     "data": {
      "text/plain": [
       "((7034706, 7), (463476, 7), (31245, 7))"
      ]
     },
     "execution_count": 21,
     "metadata": {},
     "output_type": "execute_result"
    }
   ],
   "source": [
    "meo_grid_1718 = pd.read_csv(data_path + 'gridWeather_201701-201803.csv')\n",
    "meo_grid_1804 = pd.read_csv(data_path + 'gridWeather_201804.csv')\n",
    "meo_grid_1805 = pd.read_csv(data_path + 'gridWeather_20180501-20180502.csv')\n",
    "meo_grid_1718.rename(columns={'stationName':'station_id','utc_time':'time', 'wind_speed/kph':'wind_speed'},inplace=True)\n",
    "meo_grid_1718.drop(['latitude', 'longitude'], axis=1, inplace=True)\n",
    "meo_grid_1804.drop(['id', 'weather'], axis=1, inplace=True)\n",
    "meo_grid_1805.drop(['id', 'weather'], axis=1, inplace=True)\n",
    "meo_grid_1718.shape, meo_grid_1804.shape, meo_grid_1805.shape"
   ]
  },
  {
   "cell_type": "code",
   "execution_count": 22,
   "metadata": {},
   "outputs": [
    {
     "data": {
      "text/html": [
       "<div>\n",
       "<style scoped>\n",
       "    .dataframe tbody tr th:only-of-type {\n",
       "        vertical-align: middle;\n",
       "    }\n",
       "\n",
       "    .dataframe tbody tr th {\n",
       "        vertical-align: top;\n",
       "    }\n",
       "\n",
       "    .dataframe thead th {\n",
       "        text-align: right;\n",
       "    }\n",
       "</style>\n",
       "<table border=\"1\" class=\"dataframe\">\n",
       "  <thead>\n",
       "    <tr style=\"text-align: right;\">\n",
       "      <th></th>\n",
       "      <th>station_id</th>\n",
       "      <th>time</th>\n",
       "      <th>temperature</th>\n",
       "      <th>pressure</th>\n",
       "      <th>humidity</th>\n",
       "      <th>wind_direction</th>\n",
       "      <th>wind_speed</th>\n",
       "    </tr>\n",
       "  </thead>\n",
       "  <tbody>\n",
       "    <tr>\n",
       "      <th>0</th>\n",
       "      <td>beijing_grid_000</td>\n",
       "      <td>2017-01-01 00:00:00</td>\n",
       "      <td>-5.47</td>\n",
       "      <td>984.73</td>\n",
       "      <td>76.60</td>\n",
       "      <td>53.71</td>\n",
       "      <td>3.53</td>\n",
       "    </tr>\n",
       "    <tr>\n",
       "      <th>1</th>\n",
       "      <td>beijing_grid_001</td>\n",
       "      <td>2017-01-01 00:00:00</td>\n",
       "      <td>-5.53</td>\n",
       "      <td>979.33</td>\n",
       "      <td>75.40</td>\n",
       "      <td>43.59</td>\n",
       "      <td>3.11</td>\n",
       "    </tr>\n",
       "    <tr>\n",
       "      <th>2</th>\n",
       "      <td>beijing_grid_002</td>\n",
       "      <td>2017-01-01 00:00:00</td>\n",
       "      <td>-5.70</td>\n",
       "      <td>963.14</td>\n",
       "      <td>71.80</td>\n",
       "      <td>0.97</td>\n",
       "      <td>2.75</td>\n",
       "    </tr>\n",
       "    <tr>\n",
       "      <th>3</th>\n",
       "      <td>beijing_grid_003</td>\n",
       "      <td>2017-01-01 00:00:00</td>\n",
       "      <td>-5.88</td>\n",
       "      <td>946.94</td>\n",
       "      <td>68.20</td>\n",
       "      <td>327.65</td>\n",
       "      <td>3.84</td>\n",
       "    </tr>\n",
       "    <tr>\n",
       "      <th>4</th>\n",
       "      <td>beijing_grid_004</td>\n",
       "      <td>2017-01-01 00:00:00</td>\n",
       "      <td>-5.34</td>\n",
       "      <td>928.80</td>\n",
       "      <td>58.81</td>\n",
       "      <td>317.85</td>\n",
       "      <td>6.14</td>\n",
       "    </tr>\n",
       "  </tbody>\n",
       "</table>\n",
       "</div>"
      ],
      "text/plain": [
       "         station_id                 time  temperature  pressure  humidity  \\\n",
       "0  beijing_grid_000  2017-01-01 00:00:00        -5.47    984.73     76.60   \n",
       "1  beijing_grid_001  2017-01-01 00:00:00        -5.53    979.33     75.40   \n",
       "2  beijing_grid_002  2017-01-01 00:00:00        -5.70    963.14     71.80   \n",
       "3  beijing_grid_003  2017-01-01 00:00:00        -5.88    946.94     68.20   \n",
       "4  beijing_grid_004  2017-01-01 00:00:00        -5.34    928.80     58.81   \n",
       "\n",
       "   wind_direction  wind_speed  \n",
       "0           53.71        3.53  \n",
       "1           43.59        3.11  \n",
       "2            0.97        2.75  \n",
       "3          327.65        3.84  \n",
       "4          317.85        6.14  "
      ]
     },
     "execution_count": 22,
     "metadata": {},
     "output_type": "execute_result"
    }
   ],
   "source": [
    "meo_grid_1718.head()"
   ]
  },
  {
   "cell_type": "code",
   "execution_count": 23,
   "metadata": {},
   "outputs": [
    {
     "data": {
      "text/html": [
       "<div>\n",
       "<style scoped>\n",
       "    .dataframe tbody tr th:only-of-type {\n",
       "        vertical-align: middle;\n",
       "    }\n",
       "\n",
       "    .dataframe tbody tr th {\n",
       "        vertical-align: top;\n",
       "    }\n",
       "\n",
       "    .dataframe thead th {\n",
       "        text-align: right;\n",
       "    }\n",
       "</style>\n",
       "<table border=\"1\" class=\"dataframe\">\n",
       "  <thead>\n",
       "    <tr style=\"text-align: right;\">\n",
       "      <th></th>\n",
       "      <th>station_id</th>\n",
       "      <th>time</th>\n",
       "      <th>temperature</th>\n",
       "      <th>pressure</th>\n",
       "      <th>humidity</th>\n",
       "      <th>wind_direction</th>\n",
       "      <th>wind_speed</th>\n",
       "    </tr>\n",
       "  </thead>\n",
       "  <tbody>\n",
       "    <tr>\n",
       "      <th>0</th>\n",
       "      <td>beijing_grid_000</td>\n",
       "      <td>2018-04-01 00:00:00</td>\n",
       "      <td>15.0</td>\n",
       "      <td>974.1536</td>\n",
       "      <td>21.0</td>\n",
       "      <td>346.93</td>\n",
       "      <td>4.18</td>\n",
       "    </tr>\n",
       "    <tr>\n",
       "      <th>1</th>\n",
       "      <td>beijing_grid_001</td>\n",
       "      <td>2018-04-01 00:00:00</td>\n",
       "      <td>15.0</td>\n",
       "      <td>960.6752</td>\n",
       "      <td>20.0</td>\n",
       "      <td>329.47</td>\n",
       "      <td>4.50</td>\n",
       "    </tr>\n",
       "    <tr>\n",
       "      <th>2</th>\n",
       "      <td>beijing_grid_002</td>\n",
       "      <td>2018-04-01 00:00:00</td>\n",
       "      <td>9.0</td>\n",
       "      <td>947.1968</td>\n",
       "      <td>19.0</td>\n",
       "      <td>315.38</td>\n",
       "      <td>5.16</td>\n",
       "    </tr>\n",
       "    <tr>\n",
       "      <th>3</th>\n",
       "      <td>beijing_grid_003</td>\n",
       "      <td>2018-04-01 00:00:00</td>\n",
       "      <td>9.0</td>\n",
       "      <td>931.8720</td>\n",
       "      <td>19.0</td>\n",
       "      <td>307.81</td>\n",
       "      <td>5.74</td>\n",
       "    </tr>\n",
       "    <tr>\n",
       "      <th>4</th>\n",
       "      <td>beijing_grid_004</td>\n",
       "      <td>2018-04-01 00:00:00</td>\n",
       "      <td>9.0</td>\n",
       "      <td>914.7008</td>\n",
       "      <td>20.0</td>\n",
       "      <td>304.23</td>\n",
       "      <td>6.08</td>\n",
       "    </tr>\n",
       "  </tbody>\n",
       "</table>\n",
       "</div>"
      ],
      "text/plain": [
       "         station_id                 time  temperature  pressure  humidity  \\\n",
       "0  beijing_grid_000  2018-04-01 00:00:00         15.0  974.1536      21.0   \n",
       "1  beijing_grid_001  2018-04-01 00:00:00         15.0  960.6752      20.0   \n",
       "2  beijing_grid_002  2018-04-01 00:00:00          9.0  947.1968      19.0   \n",
       "3  beijing_grid_003  2018-04-01 00:00:00          9.0  931.8720      19.0   \n",
       "4  beijing_grid_004  2018-04-01 00:00:00          9.0  914.7008      20.0   \n",
       "\n",
       "   wind_direction  wind_speed  \n",
       "0          346.93        4.18  \n",
       "1          329.47        4.50  \n",
       "2          315.38        5.16  \n",
       "3          307.81        5.74  \n",
       "4          304.23        6.08  "
      ]
     },
     "execution_count": 23,
     "metadata": {},
     "output_type": "execute_result"
    }
   ],
   "source": [
    "meo_grid_1804.head()"
   ]
  },
  {
   "cell_type": "code",
   "execution_count": 24,
   "metadata": {},
   "outputs": [
    {
     "data": {
      "text/html": [
       "<div>\n",
       "<style scoped>\n",
       "    .dataframe tbody tr th:only-of-type {\n",
       "        vertical-align: middle;\n",
       "    }\n",
       "\n",
       "    .dataframe tbody tr th {\n",
       "        vertical-align: top;\n",
       "    }\n",
       "\n",
       "    .dataframe thead th {\n",
       "        text-align: right;\n",
       "    }\n",
       "</style>\n",
       "<table border=\"1\" class=\"dataframe\">\n",
       "  <thead>\n",
       "    <tr style=\"text-align: right;\">\n",
       "      <th></th>\n",
       "      <th>station_id</th>\n",
       "      <th>time</th>\n",
       "      <th>temperature</th>\n",
       "      <th>pressure</th>\n",
       "      <th>humidity</th>\n",
       "      <th>wind_direction</th>\n",
       "      <th>wind_speed</th>\n",
       "    </tr>\n",
       "  </thead>\n",
       "  <tbody>\n",
       "    <tr>\n",
       "      <th>0</th>\n",
       "      <td>beijing_grid_000</td>\n",
       "      <td>2018-05-01 00:00:00</td>\n",
       "      <td>20.0</td>\n",
       "      <td>975.6105</td>\n",
       "      <td>52.0</td>\n",
       "      <td>76.64</td>\n",
       "      <td>4.38</td>\n",
       "    </tr>\n",
       "    <tr>\n",
       "      <th>1</th>\n",
       "      <td>beijing_grid_001</td>\n",
       "      <td>2018-05-01 00:00:00</td>\n",
       "      <td>20.0</td>\n",
       "      <td>962.0873</td>\n",
       "      <td>49.0</td>\n",
       "      <td>58.35</td>\n",
       "      <td>3.82</td>\n",
       "    </tr>\n",
       "    <tr>\n",
       "      <th>2</th>\n",
       "      <td>beijing_grid_002</td>\n",
       "      <td>2018-05-01 00:00:00</td>\n",
       "      <td>13.0</td>\n",
       "      <td>948.5641</td>\n",
       "      <td>46.0</td>\n",
       "      <td>36.82</td>\n",
       "      <td>3.75</td>\n",
       "    </tr>\n",
       "    <tr>\n",
       "      <th>3</th>\n",
       "      <td>beijing_grid_003</td>\n",
       "      <td>2018-05-01 00:00:00</td>\n",
       "      <td>13.0</td>\n",
       "      <td>933.2105</td>\n",
       "      <td>43.0</td>\n",
       "      <td>9.52</td>\n",
       "      <td>4.65</td>\n",
       "    </tr>\n",
       "    <tr>\n",
       "      <th>4</th>\n",
       "      <td>beijing_grid_004</td>\n",
       "      <td>2018-05-01 00:00:00</td>\n",
       "      <td>13.0</td>\n",
       "      <td>916.0265</td>\n",
       "      <td>42.0</td>\n",
       "      <td>350.17</td>\n",
       "      <td>6.88</td>\n",
       "    </tr>\n",
       "  </tbody>\n",
       "</table>\n",
       "</div>"
      ],
      "text/plain": [
       "         station_id                 time  temperature  pressure  humidity  \\\n",
       "0  beijing_grid_000  2018-05-01 00:00:00         20.0  975.6105      52.0   \n",
       "1  beijing_grid_001  2018-05-01 00:00:00         20.0  962.0873      49.0   \n",
       "2  beijing_grid_002  2018-05-01 00:00:00         13.0  948.5641      46.0   \n",
       "3  beijing_grid_003  2018-05-01 00:00:00         13.0  933.2105      43.0   \n",
       "4  beijing_grid_004  2018-05-01 00:00:00         13.0  916.0265      42.0   \n",
       "\n",
       "   wind_direction  wind_speed  \n",
       "0           76.64        4.38  \n",
       "1           58.35        3.82  \n",
       "2           36.82        3.75  \n",
       "3            9.52        4.65  \n",
       "4          350.17        6.88  "
      ]
     },
     "execution_count": 24,
     "metadata": {},
     "output_type": "execute_result"
    }
   ],
   "source": [
    "meo_grid_1805.head()"
   ]
  },
  {
   "cell_type": "code",
   "execution_count": 25,
   "metadata": {},
   "outputs": [
    {
     "data": {
      "text/plain": [
       "(7529427, 7)"
      ]
     },
     "execution_count": 25,
     "metadata": {},
     "output_type": "execute_result"
    }
   ],
   "source": [
    "meo_grid = meo_grid_1718.append(meo_grid_1804).append(meo_grid_1805)\n",
    "del meo_grid_1718, meo_grid_1804, meo_grid_1805\n",
    "meo_grid.shape"
   ]
  },
  {
   "cell_type": "code",
   "execution_count": 26,
   "metadata": {},
   "outputs": [
    {
     "data": {
      "text/html": [
       "<div>\n",
       "<style scoped>\n",
       "    .dataframe tbody tr th:only-of-type {\n",
       "        vertical-align: middle;\n",
       "    }\n",
       "\n",
       "    .dataframe tbody tr th {\n",
       "        vertical-align: top;\n",
       "    }\n",
       "\n",
       "    .dataframe thead th {\n",
       "        text-align: right;\n",
       "    }\n",
       "</style>\n",
       "<table border=\"1\" class=\"dataframe\">\n",
       "  <thead>\n",
       "    <tr style=\"text-align: right;\">\n",
       "      <th></th>\n",
       "      <th>station_id</th>\n",
       "      <th>time</th>\n",
       "      <th>temperature</th>\n",
       "      <th>pressure</th>\n",
       "      <th>humidity</th>\n",
       "      <th>wind_direction</th>\n",
       "      <th>wind_speed</th>\n",
       "    </tr>\n",
       "  </thead>\n",
       "  <tbody>\n",
       "    <tr>\n",
       "      <th>0</th>\n",
       "      <td>beijing_grid_000</td>\n",
       "      <td>2017-01-01 00:00:00</td>\n",
       "      <td>-5.47</td>\n",
       "      <td>984.73</td>\n",
       "      <td>76.60</td>\n",
       "      <td>53.71</td>\n",
       "      <td>3.53</td>\n",
       "    </tr>\n",
       "    <tr>\n",
       "      <th>1</th>\n",
       "      <td>beijing_grid_001</td>\n",
       "      <td>2017-01-01 00:00:00</td>\n",
       "      <td>-5.53</td>\n",
       "      <td>979.33</td>\n",
       "      <td>75.40</td>\n",
       "      <td>43.59</td>\n",
       "      <td>3.11</td>\n",
       "    </tr>\n",
       "    <tr>\n",
       "      <th>2</th>\n",
       "      <td>beijing_grid_002</td>\n",
       "      <td>2017-01-01 00:00:00</td>\n",
       "      <td>-5.70</td>\n",
       "      <td>963.14</td>\n",
       "      <td>71.80</td>\n",
       "      <td>0.97</td>\n",
       "      <td>2.75</td>\n",
       "    </tr>\n",
       "    <tr>\n",
       "      <th>3</th>\n",
       "      <td>beijing_grid_003</td>\n",
       "      <td>2017-01-01 00:00:00</td>\n",
       "      <td>-5.88</td>\n",
       "      <td>946.94</td>\n",
       "      <td>68.20</td>\n",
       "      <td>327.65</td>\n",
       "      <td>3.84</td>\n",
       "    </tr>\n",
       "    <tr>\n",
       "      <th>4</th>\n",
       "      <td>beijing_grid_004</td>\n",
       "      <td>2017-01-01 00:00:00</td>\n",
       "      <td>-5.34</td>\n",
       "      <td>928.80</td>\n",
       "      <td>58.81</td>\n",
       "      <td>317.85</td>\n",
       "      <td>6.14</td>\n",
       "    </tr>\n",
       "  </tbody>\n",
       "</table>\n",
       "</div>"
      ],
      "text/plain": [
       "         station_id                 time  temperature  pressure  humidity  \\\n",
       "0  beijing_grid_000  2017-01-01 00:00:00        -5.47    984.73     76.60   \n",
       "1  beijing_grid_001  2017-01-01 00:00:00        -5.53    979.33     75.40   \n",
       "2  beijing_grid_002  2017-01-01 00:00:00        -5.70    963.14     71.80   \n",
       "3  beijing_grid_003  2017-01-01 00:00:00        -5.88    946.94     68.20   \n",
       "4  beijing_grid_004  2017-01-01 00:00:00        -5.34    928.80     58.81   \n",
       "\n",
       "   wind_direction  wind_speed  \n",
       "0           53.71        3.53  \n",
       "1           43.59        3.11  \n",
       "2            0.97        2.75  \n",
       "3          327.65        3.84  \n",
       "4          317.85        6.14  "
      ]
     },
     "execution_count": 26,
     "metadata": {},
     "output_type": "execute_result"
    }
   ],
   "source": [
    "meo_grid.head()"
   ]
  },
  {
   "cell_type": "code",
   "execution_count": 27,
   "metadata": {},
   "outputs": [
    {
     "data": {
      "text/plain": [
       "(7529400, 7)"
      ]
     },
     "execution_count": 27,
     "metadata": {},
     "output_type": "execute_result"
    }
   ],
   "source": [
    "# remove duplicated rows by considering station_id and time\n",
    "meo_grid = meo_grid.append(meo_grid).drop_duplicates(['station_id','time'])\n",
    "meo_grid.shape"
   ]
  },
  {
   "cell_type": "code",
   "execution_count": 28,
   "metadata": {},
   "outputs": [
    {
     "data": {
      "text/plain": [
       "(7529400, 7)"
      ]
     },
     "execution_count": 28,
     "metadata": {},
     "output_type": "execute_result"
    }
   ],
   "source": [
    "# check if there is missing value for station_id\n",
    "meo_grid = meo_grid[~meo_grid['station_id'].isnull()]\n",
    "meo_grid.shape"
   ]
  },
  {
   "cell_type": "code",
   "execution_count": 29,
   "metadata": {},
   "outputs": [],
   "source": [
    "meo_grid.to_hdf(data_path+'meo_grid.hdf','w', complib='blosc', complevel=5)"
   ]
  },
  {
   "cell_type": "code",
   "execution_count": null,
   "metadata": {},
   "outputs": [],
   "source": []
  }
 ],
 "metadata": {
  "kernelspec": {
   "display_name": "Python 3",
   "language": "python",
   "name": "python3"
  },
  "language_info": {
   "codemirror_mode": {
    "name": "ipython",
    "version": 3
   },
   "file_extension": ".py",
   "mimetype": "text/x-python",
   "name": "python",
   "nbconvert_exporter": "python",
   "pygments_lexer": "ipython3",
   "version": "3.5.5"
  }
 },
 "nbformat": 4,
 "nbformat_minor": 2
}
