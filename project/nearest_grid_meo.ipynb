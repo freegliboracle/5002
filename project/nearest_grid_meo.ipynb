{
 "cells": [
  {
   "cell_type": "code",
   "execution_count": 13,
   "metadata": {},
   "outputs": [],
   "source": [
    "import numpy as np\n",
    "import pandas as pd\n",
    "import os\n",
    "from matplotlib import pyplot as plt\n",
    "%matplotlib inline"
   ]
  },
  {
   "cell_type": "code",
   "execution_count": 2,
   "metadata": {},
   "outputs": [],
   "source": [
    "data_path = './data/'"
   ]
  },
  {
   "cell_type": "code",
   "execution_count": 3,
   "metadata": {},
   "outputs": [],
   "source": [
    "aq_stations = pd.read_csv(data_path+'station_info.csv')\n",
    "grid_meo_stations = pd.read_csv(data_path+'Beijing_grid_weather_station.csv')\n",
    "meo_stations = pd.read_csv(data_path+'observedWeather_201701-201801.csv')"
   ]
  },
  {
   "cell_type": "code",
   "execution_count": 4,
   "metadata": {},
   "outputs": [
    {
     "data": {
      "text/html": [
       "<div>\n",
       "<style scoped>\n",
       "    .dataframe tbody tr th:only-of-type {\n",
       "        vertical-align: middle;\n",
       "    }\n",
       "\n",
       "    .dataframe tbody tr th {\n",
       "        vertical-align: top;\n",
       "    }\n",
       "\n",
       "    .dataframe thead th {\n",
       "        text-align: right;\n",
       "    }\n",
       "</style>\n",
       "<table border=\"1\" class=\"dataframe\">\n",
       "  <thead>\n",
       "    <tr style=\"text-align: right;\">\n",
       "      <th></th>\n",
       "      <th>station_id</th>\n",
       "      <th>longitude</th>\n",
       "      <th>latitude</th>\n",
       "      <th>sitetype</th>\n",
       "    </tr>\n",
       "  </thead>\n",
       "  <tbody>\n",
       "    <tr>\n",
       "      <th>0</th>\n",
       "      <td>dongsi</td>\n",
       "      <td>116.417</td>\n",
       "      <td>39.929</td>\n",
       "      <td>urban</td>\n",
       "    </tr>\n",
       "    <tr>\n",
       "      <th>1</th>\n",
       "      <td>tiantan</td>\n",
       "      <td>116.407</td>\n",
       "      <td>39.886</td>\n",
       "      <td>urban</td>\n",
       "    </tr>\n",
       "    <tr>\n",
       "      <th>2</th>\n",
       "      <td>guanyuan</td>\n",
       "      <td>116.339</td>\n",
       "      <td>39.929</td>\n",
       "      <td>urban</td>\n",
       "    </tr>\n",
       "    <tr>\n",
       "      <th>3</th>\n",
       "      <td>wanshouxigong</td>\n",
       "      <td>116.352</td>\n",
       "      <td>39.878</td>\n",
       "      <td>urban</td>\n",
       "    </tr>\n",
       "    <tr>\n",
       "      <th>4</th>\n",
       "      <td>aotizhongxin</td>\n",
       "      <td>116.397</td>\n",
       "      <td>39.982</td>\n",
       "      <td>urban</td>\n",
       "    </tr>\n",
       "  </tbody>\n",
       "</table>\n",
       "</div>"
      ],
      "text/plain": [
       "      station_id  longitude  latitude sitetype\n",
       "0         dongsi    116.417    39.929    urban\n",
       "1        tiantan    116.407    39.886    urban\n",
       "2       guanyuan    116.339    39.929    urban\n",
       "3  wanshouxigong    116.352    39.878    urban\n",
       "4   aotizhongxin    116.397    39.982    urban"
      ]
     },
     "execution_count": 4,
     "metadata": {},
     "output_type": "execute_result"
    }
   ],
   "source": [
    "aq_stations.head()"
   ]
  },
  {
   "cell_type": "code",
   "execution_count": 5,
   "metadata": {},
   "outputs": [
    {
     "data": {
      "text/html": [
       "<div>\n",
       "<style scoped>\n",
       "    .dataframe tbody tr th:only-of-type {\n",
       "        vertical-align: middle;\n",
       "    }\n",
       "\n",
       "    .dataframe tbody tr th {\n",
       "        vertical-align: top;\n",
       "    }\n",
       "\n",
       "    .dataframe thead th {\n",
       "        text-align: right;\n",
       "    }\n",
       "</style>\n",
       "<table border=\"1\" class=\"dataframe\">\n",
       "  <thead>\n",
       "    <tr style=\"text-align: right;\">\n",
       "      <th></th>\n",
       "      <th>station_id</th>\n",
       "      <th>latitude</th>\n",
       "      <th>longitude</th>\n",
       "    </tr>\n",
       "  </thead>\n",
       "  <tbody>\n",
       "    <tr>\n",
       "      <th>0</th>\n",
       "      <td>beijing_grid_000</td>\n",
       "      <td>39.0</td>\n",
       "      <td>115.0</td>\n",
       "    </tr>\n",
       "    <tr>\n",
       "      <th>1</th>\n",
       "      <td>beijing_grid_001</td>\n",
       "      <td>39.1</td>\n",
       "      <td>115.0</td>\n",
       "    </tr>\n",
       "    <tr>\n",
       "      <th>2</th>\n",
       "      <td>beijing_grid_002</td>\n",
       "      <td>39.2</td>\n",
       "      <td>115.0</td>\n",
       "    </tr>\n",
       "    <tr>\n",
       "      <th>3</th>\n",
       "      <td>beijing_grid_003</td>\n",
       "      <td>39.3</td>\n",
       "      <td>115.0</td>\n",
       "    </tr>\n",
       "    <tr>\n",
       "      <th>4</th>\n",
       "      <td>beijing_grid_004</td>\n",
       "      <td>39.4</td>\n",
       "      <td>115.0</td>\n",
       "    </tr>\n",
       "  </tbody>\n",
       "</table>\n",
       "</div>"
      ],
      "text/plain": [
       "         station_id  latitude  longitude\n",
       "0  beijing_grid_000      39.0      115.0\n",
       "1  beijing_grid_001      39.1      115.0\n",
       "2  beijing_grid_002      39.2      115.0\n",
       "3  beijing_grid_003      39.3      115.0\n",
       "4  beijing_grid_004      39.4      115.0"
      ]
     },
     "execution_count": 5,
     "metadata": {},
     "output_type": "execute_result"
    }
   ],
   "source": [
    "grid_meo_stations.head()"
   ]
  },
  {
   "cell_type": "code",
   "execution_count": 6,
   "metadata": {},
   "outputs": [
    {
     "data": {
      "text/html": [
       "<div>\n",
       "<style scoped>\n",
       "    .dataframe tbody tr th:only-of-type {\n",
       "        vertical-align: middle;\n",
       "    }\n",
       "\n",
       "    .dataframe tbody tr th {\n",
       "        vertical-align: top;\n",
       "    }\n",
       "\n",
       "    .dataframe thead th {\n",
       "        text-align: right;\n",
       "    }\n",
       "</style>\n",
       "<table border=\"1\" class=\"dataframe\">\n",
       "  <thead>\n",
       "    <tr style=\"text-align: right;\">\n",
       "      <th></th>\n",
       "      <th>station_id</th>\n",
       "      <th>longitude</th>\n",
       "      <th>latitude</th>\n",
       "      <th>utc_time</th>\n",
       "      <th>temperature</th>\n",
       "      <th>pressure</th>\n",
       "      <th>humidity</th>\n",
       "      <th>wind_direction</th>\n",
       "      <th>wind_speed</th>\n",
       "      <th>weather</th>\n",
       "    </tr>\n",
       "  </thead>\n",
       "  <tbody>\n",
       "    <tr>\n",
       "      <th>0</th>\n",
       "      <td>shunyi_meo</td>\n",
       "      <td>116.615278</td>\n",
       "      <td>40.126667</td>\n",
       "      <td>2017-01-30 16:00:00</td>\n",
       "      <td>-1.7</td>\n",
       "      <td>1028.7</td>\n",
       "      <td>15</td>\n",
       "      <td>215.0</td>\n",
       "      <td>1.6</td>\n",
       "      <td>Sunny/clear</td>\n",
       "    </tr>\n",
       "    <tr>\n",
       "      <th>1</th>\n",
       "      <td>shunyi_meo</td>\n",
       "      <td>116.615278</td>\n",
       "      <td>40.126667</td>\n",
       "      <td>2017-01-30 17:00:00</td>\n",
       "      <td>-3.5</td>\n",
       "      <td>1028.4</td>\n",
       "      <td>24</td>\n",
       "      <td>16.0</td>\n",
       "      <td>1.0</td>\n",
       "      <td>Haze</td>\n",
       "    </tr>\n",
       "    <tr>\n",
       "      <th>2</th>\n",
       "      <td>shunyi_meo</td>\n",
       "      <td>116.615278</td>\n",
       "      <td>40.126667</td>\n",
       "      <td>2017-01-30 18:00:00</td>\n",
       "      <td>-3.7</td>\n",
       "      <td>1028.1</td>\n",
       "      <td>27</td>\n",
       "      <td>32.0</td>\n",
       "      <td>1.1</td>\n",
       "      <td>Haze</td>\n",
       "    </tr>\n",
       "    <tr>\n",
       "      <th>3</th>\n",
       "      <td>shunyi_meo</td>\n",
       "      <td>116.615278</td>\n",
       "      <td>40.126667</td>\n",
       "      <td>2017-01-30 19:00:00</td>\n",
       "      <td>-3.9</td>\n",
       "      <td>1027.6</td>\n",
       "      <td>27</td>\n",
       "      <td>21.0</td>\n",
       "      <td>0.9</td>\n",
       "      <td>Haze</td>\n",
       "    </tr>\n",
       "    <tr>\n",
       "      <th>4</th>\n",
       "      <td>shunyi_meo</td>\n",
       "      <td>116.615278</td>\n",
       "      <td>40.126667</td>\n",
       "      <td>2017-01-30 20:00:00</td>\n",
       "      <td>-4.1</td>\n",
       "      <td>1026.7</td>\n",
       "      <td>26</td>\n",
       "      <td>17.0</td>\n",
       "      <td>1.1</td>\n",
       "      <td>Haze</td>\n",
       "    </tr>\n",
       "  </tbody>\n",
       "</table>\n",
       "</div>"
      ],
      "text/plain": [
       "   station_id   longitude   latitude             utc_time  temperature  \\\n",
       "0  shunyi_meo  116.615278  40.126667  2017-01-30 16:00:00         -1.7   \n",
       "1  shunyi_meo  116.615278  40.126667  2017-01-30 17:00:00         -3.5   \n",
       "2  shunyi_meo  116.615278  40.126667  2017-01-30 18:00:00         -3.7   \n",
       "3  shunyi_meo  116.615278  40.126667  2017-01-30 19:00:00         -3.9   \n",
       "4  shunyi_meo  116.615278  40.126667  2017-01-30 20:00:00         -4.1   \n",
       "\n",
       "   pressure  humidity  wind_direction  wind_speed      weather  \n",
       "0    1028.7        15           215.0         1.6  Sunny/clear  \n",
       "1    1028.4        24            16.0         1.0         Haze  \n",
       "2    1028.1        27            32.0         1.1         Haze  \n",
       "3    1027.6        27            21.0         0.9         Haze  \n",
       "4    1026.7        26            17.0         1.1         Haze  "
      ]
     },
     "execution_count": 6,
     "metadata": {},
     "output_type": "execute_result"
    }
   ],
   "source": [
    "meo_stations.head()"
   ]
  },
  {
   "cell_type": "code",
   "execution_count": 7,
   "metadata": {},
   "outputs": [],
   "source": [
    "def get_station_locations(stations_df):\n",
    "    '''\n",
    "    Get all the locations of stations in stations_df.\n",
    "    Agrs : \n",
    "        stations_df : a dataframe of all station data.\n",
    "    Return : \n",
    "        A list of (station_name, (longitude, latitude))\n",
    "    '''\n",
    "    \n",
    "    locations = []\n",
    "    station_names = []\n",
    "    \n",
    "    if 'station_id' in stations_df.columns:\n",
    "        station_column_name = 'station_id'\n",
    "    elif 'stationName' in stations_df.columns:\n",
    "        station_column_name = 'stationName'\n",
    "    else :\n",
    "        print(\"Can not find station name!\")\n",
    "    \n",
    "    for j in stations_df.index:\n",
    "        station_name = stations_df[station_column_name][j]\n",
    "        if station_name not in station_names:\n",
    "            station_names.append(station_name)\n",
    "            longitude = stations_df['longitude'][j]\n",
    "            latitude = stations_df['latitude'][j]\n",
    "            location = (longitude, latitude)\n",
    "            # station_name = stations_df[station_column_name][j]\n",
    "            locations.append((station_name, location))\n",
    "    \n",
    "    return locations"
   ]
  },
  {
   "cell_type": "code",
   "execution_count": 9,
   "metadata": {},
   "outputs": [
    {
     "name": "stdout",
     "output_type": "stream",
     "text": [
      "There are 18 meo stations in Beijing.\n",
      "There are 651 grid meo stations in Beijing.\n",
      "There are 35 air quality stations in Beijing.\n"
     ]
    }
   ],
   "source": [
    "grid_meo_stations = grid_meo_stations.head(651)\n",
    "meo_locations = get_station_locations(meo_stations)\n",
    "grid_meo_locations = get_station_locations(grid_meo_stations)\n",
    "aq_locations = get_station_locations(aq_stations)\n",
    "print(\"There are %d meo stations in Beijing.\" %(len(meo_locations)))\n",
    "print(\"There are %d grid meo stations in Beijing.\" %(len(grid_meo_locations)))\n",
    "print(\"There are %d air quality stations in Beijing.\" %(len(aq_locations)))"
   ]
  },
  {
   "cell_type": "code",
   "execution_count": 10,
   "metadata": {},
   "outputs": [],
   "source": [
    "def get_location_lists(locations):\n",
    "    '''\n",
    "    Get location list from locations.\n",
    "    Args : \n",
    "        A list with element shape (station_name, (longitude, latitude)).\n",
    "    Return : \n",
    "        Two lists of longitudes and latitudes.\n",
    "    '''\n",
    "    longitudes = []\n",
    "    latitudes = []\n",
    "    \n",
    "    for i in range(len(locations)):\n",
    "        _, (longitude, latitude) = locations[i]\n",
    "        longitudes.append(longitude)\n",
    "        latitudes.append(latitude)\n",
    "        \n",
    "    return longitudes, latitudes"
   ]
  },
  {
   "cell_type": "code",
   "execution_count": 11,
   "metadata": {},
   "outputs": [],
   "source": [
    "meo_locations_longitudes, meo_locations_latitudes = get_location_lists(meo_locations)\n",
    "grid_meo_locations_longitudes, grid_meo_locations_latitudes = get_location_lists(grid_meo_locations)\n",
    "aq_locations_longitudes, aq_locations_latitudes = get_location_lists(aq_locations)"
   ]
  },
  {
   "cell_type": "code",
   "execution_count": 14,
   "metadata": {},
   "outputs": [
    {
     "data": {
      "image/png": "[encoded data removed]",
      "text/plain": [
       "<Figure size 1080x1080 with 1 Axes>"
      ]
     },
     "metadata": {},
     "output_type": "display_data"
    }
   ],
   "source": [
    "plt.rc(\"figure\", figsize=(15,15));\n",
    "plt.plot(meo_locations_longitudes, meo_locations_latitudes, \"go\", label=\"meo_station\");\n",
    "plt.plot(grid_meo_locations_longitudes, grid_meo_locations_latitudes, \"bo\", label=\"grid_meo\");\n",
    "plt.plot(aq_locations_longitudes, aq_locations_latitudes, \"ro\", label=\"aq_station\");\n",
    "plt.legend();"
   ]
  },
  {
   "cell_type": "code",
   "execution_count": null,
   "metadata": {},
   "outputs": [],
   "source": []
  },
  {
   "cell_type": "code",
   "execution_count": 15,
   "metadata": {},
   "outputs": [],
   "source": [
    "def find_nearst_meo_station_name(aq_location, meo_locations):\n",
    "    '''\n",
    "    From meo stations ans grid meos stations, find the nearest meo station of aq station.\n",
    "    Args :\n",
    "        aq_location : an aq station information of (station_name, (longitude, latitude))\n",
    "        meo_locations : meo information, list of ((station_name, (longitude, latitude)))\n",
    "    '''\n",
    "    nearest_station_name = \"\"\n",
    "    nearest_distance = 1e10\n",
    "    \n",
    "    aq_station_longitude = aq_location[1][0]\n",
    "    aq_station_latitude = aq_location[1][1]\n",
    "    \n",
    "    for station_name, (longitude, latitude) in meo_locations:\n",
    "        dis = np.sqrt((longitude-aq_station_longitude)**2 + (latitude-aq_station_latitude)**2)\n",
    "        if dis < nearest_distance:\n",
    "            nearest_distance = dis\n",
    "            nearest_station_name = station_name\n",
    "    \n",
    "    return nearest_station_name"
   ]
  },
  {
   "cell_type": "code",
   "execution_count": 16,
   "metadata": {},
   "outputs": [],
   "source": [
    "aq_station_nearest_meo_station = {}\n",
    "\n",
    "stations = grid_meo_locations\n",
    "\n",
    "for aq_station in aq_locations:\n",
    "    nearest_meo_station_name = find_nearst_meo_station_name(aq_station, stations)\n",
    "    aq_station_nearest_meo_station[aq_station[0]] = nearest_meo_station_name"
   ]
  },
  {
   "cell_type": "code",
   "execution_count": 17,
   "metadata": {},
   "outputs": [
    {
     "data": {
      "text/plain": [
       "{'aotizhongxin': 'beijing_grid_304',\n",
       " 'badaling': 'beijing_grid_224',\n",
       " 'beibuxinqu': 'beijing_grid_263',\n",
       " 'daxing': 'beijing_grid_301',\n",
       " 'dingling': 'beijing_grid_265',\n",
       " 'donggaocun': 'beijing_grid_452',\n",
       " 'dongsi': 'beijing_grid_303',\n",
       " 'dongsihuan': 'beijing_grid_324',\n",
       " 'fangshan': 'beijing_grid_238',\n",
       " 'fengtaihuayuan': 'beijing_grid_282',\n",
       " 'guanyuan': 'beijing_grid_282',\n",
       " 'gucheng': 'beijing_grid_261',\n",
       " 'huairou': 'beijing_grid_349',\n",
       " 'liulihe': 'beijing_grid_216',\n",
       " 'mentougou': 'beijing_grid_240',\n",
       " 'miyun': 'beijing_grid_392',\n",
       " 'miyunshuiku': 'beijing_grid_414',\n",
       " 'nansanhuan': 'beijing_grid_303',\n",
       " 'nongzhanguan': 'beijing_grid_324',\n",
       " 'pingchang': 'beijing_grid_264',\n",
       " 'pinggu': 'beijing_grid_452',\n",
       " 'qianmen': 'beijing_grid_303',\n",
       " 'shunyi': 'beijing_grid_368',\n",
       " 'tiantan': 'beijing_grid_303',\n",
       " 'tongzhou': 'beijing_grid_366',\n",
       " 'wanliu': 'beijing_grid_283',\n",
       " 'wanshouxigong': 'beijing_grid_303',\n",
       " 'xizhimenbei': 'beijing_grid_283',\n",
       " 'yanqin': 'beijing_grid_225',\n",
       " 'yizhuang': 'beijing_grid_323',\n",
       " 'yongdingmennei': 'beijing_grid_303',\n",
       " 'yongledian': 'beijing_grid_385',\n",
       " 'yufa': 'beijing_grid_278',\n",
       " 'yungang': 'beijing_grid_239',\n",
       " 'zhiwuyuan': 'beijing_grid_262'}"
      ]
     },
     "execution_count": 17,
     "metadata": {},
     "output_type": "execute_result"
    }
   ],
   "source": [
    "aq_station_nearest_meo_station"
   ]
  },
  {
   "cell_type": "code",
   "execution_count": null,
   "metadata": {},
   "outputs": [],
   "source": []
  }
 ],
 "metadata": {
  "kernelspec": {
   "display_name": "Python 3",
   "language": "python",
   "name": "python3"
  },
  "language_info": {
   "codemirror_mode": {
    "name": "ipython",
    "version": 3
   },
   "file_extension": ".py",
   "mimetype": "text/x-python",
   "name": "python",
   "nbconvert_exporter": "python",
   "pygments_lexer": "ipython3",
   "version": "3.5.5"
  }
 },
 "nbformat": 4,
 "nbformat_minor": 2
}
