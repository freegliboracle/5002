{
 "cells": [
  {
   "cell_type": "code",
   "execution_count": 1,
   "metadata": {},
   "outputs": [],
   "source": [
    "import os\n",
    "import pickle\n",
    "import datetime\n",
    "import numpy as np\n",
    "import pandas as pd\n",
    "import lightgbm as lgb"
   ]
  },
  {
   "cell_type": "code",
   "execution_count": 2,
   "metadata": {},
   "outputs": [],
   "source": [
    "cache_path = './cache/'\n",
    "data_path = './data/'\n",
    "feature_path = './feature/'"
   ]
  },
  {
   "cell_type": "code",
   "execution_count": 3,
   "metadata": {},
   "outputs": [],
   "source": [
    "hours = 1\n",
    "start_date = '2018-03-24'\n",
    "# range of days to compute feature\n",
    "days = 446\n",
    "data_feat_url = feature_path + 'data_feat_{}_{}days.hdf'.format(start_date,days)"
   ]
  },
  {
   "cell_type": "code",
   "execution_count": 4,
   "metadata": {},
   "outputs": [],
   "source": [
    "data_feat = pd.read_hdf(data_feat_url, 'w')"
   ]
  },
  {
   "cell_type": "code",
   "execution_count": 5,
   "metadata": {},
   "outputs": [
    {
     "data": {
      "text/plain": [
       "(749280, 296)"
      ]
     },
     "execution_count": 5,
     "metadata": {},
     "output_type": "execute_result"
    }
   ],
   "source": [
    "data_feat.shape"
   ]
  },
  {
   "cell_type": "code",
   "execution_count": 6,
   "metadata": {},
   "outputs": [
    {
     "data": {
      "text/plain": [
       "('2017-01-03 00:00:00', '2018-03-25 23:00:00')"
      ]
     },
     "execution_count": 6,
     "metadata": {},
     "output_type": "execute_result"
    }
   ],
   "source": [
    "data_feat['time'].min(), data_feat['time'].max()"
   ]
  },
  {
   "cell_type": "code",
   "execution_count": 7,
   "metadata": {},
   "outputs": [
    {
     "data": {
      "text/plain": [
       "Index([], dtype='object')"
      ]
     },
     "execution_count": 7,
     "metadata": {},
     "output_type": "execute_result"
    }
   ],
   "source": [
    "data_feat.columns[data_feat.isnull().any()]"
   ]
  },
  {
   "cell_type": "code",
   "execution_count": 8,
   "metadata": {},
   "outputs": [],
   "source": [
    "train_feat = data_feat[data_feat['time']<'2018-03-05 00:00:00']\n",
    "eval_feat = data_feat[data_feat['time']>='2018-03-05 00:00:00']"
   ]
  },
  {
   "cell_type": "code",
   "execution_count": 9,
   "metadata": {},
   "outputs": [
    {
     "data": {
      "text/plain": [
       "((714840, 296), (34440, 296))"
      ]
     },
     "execution_count": 9,
     "metadata": {},
     "output_type": "execute_result"
    }
   ],
   "source": [
    "train_feat.shape, eval_feat.shape"
   ]
  },
  {
   "cell_type": "code",
   "execution_count": 10,
   "metadata": {},
   "outputs": [],
   "source": [
    "predictors = [c for c in train_feat.columns if c not in (['station_id', 'time','date', 'PM2.5', 'PM10', 'O3'])]"
   ]
  },
  {
   "cell_type": "code",
   "execution_count": 11,
   "metadata": {},
   "outputs": [],
   "source": [
    "# predictors"
   ]
  },
  {
   "cell_type": "code",
   "execution_count": 12,
   "metadata": {},
   "outputs": [],
   "source": [
    "params = {\n",
    "    'learning_rate': 0.01,\n",
    "    'boosting_type': 'gbdt',\n",
    "    # 'objective': 'regression',\n",
    "    'application': 'mape',\n",
    "    'metric': 'mape', #'map'\n",
    "    'sub_feature': 0.7,\n",
    "    'num_leaves': 60,\n",
    "    'min_data': 100,\n",
    "    'min_hessian': 1,\n",
    "    'verbose': -1,\n",
    "}"
   ]
  },
  {
   "cell_type": "code",
   "execution_count": 13,
   "metadata": {},
   "outputs": [],
   "source": [
    "model_dict = {}\n",
    "def f1(x): return np.log(x+1)\n",
    "def f2(x): return np.log(x+1)\n",
    "def f3(x): return np.log(x+100)\n",
    "def f4(x): return np.exp(x)-1\n",
    "def f5(x): return np.exp(x)-1\n",
    "def f6(x): return np.exp(x)-100\n",
    "encode = {'PM2.5':f1,'PM10':f2,'O3':f3}\n",
    "decode = {'PM2.5':f4,'PM10':f5,'O3':f6}"
   ]
  },
  {
   "cell_type": "code",
   "execution_count": 14,
   "metadata": {},
   "outputs": [],
   "source": [
    "def smape_error(preds, train_data):\n",
    "    labels = train_data.get_label()\n",
    "    return 'error', 2*np.mean(np.fabs(preds - labels) / (preds + labels)), False"
   ]
  },
  {
   "cell_type": "code",
   "execution_count": 15,
   "metadata": {},
   "outputs": [
    {
     "name": "stdout",
     "output_type": "stream",
     "text": [
      "Training until validation scores don't improve for 100 rounds.\n",
      "[100]\tvalid_0's mape: 0.174125\tvalid_0's error: 0.180236\n",
      "[200]\tvalid_0's mape: 0.15579\tvalid_0's error: 0.157095\n",
      "[300]\tvalid_0's mape: 0.144426\tvalid_0's error: 0.143635\n",
      "[400]\tvalid_0's mape: 0.137835\tvalid_0's error: 0.136118\n",
      "[500]\tvalid_0's mape: 0.134882\tvalid_0's error: 0.132785\n",
      "[600]\tvalid_0's mape: 0.132958\tvalid_0's error: 0.130724\n",
      "[700]\tvalid_0's mape: 0.131607\tvalid_0's error: 0.129472\n",
      "[800]\tvalid_0's mape: 0.130312\tvalid_0's error: 0.128171\n",
      "[900]\tvalid_0's mape: 0.129197\tvalid_0's error: 0.127113\n",
      "[1000]\tvalid_0's mape: 0.128195\tvalid_0's error: 0.126148\n",
      "[1100]\tvalid_0's mape: 0.127549\tvalid_0's error: 0.1255\n",
      "[1200]\tvalid_0's mape: 0.127079\tvalid_0's error: 0.125032\n",
      "[1300]\tvalid_0's mape: 0.126661\tvalid_0's error: 0.124575\n",
      "[1400]\tvalid_0's mape: 0.126247\tvalid_0's error: 0.124167\n",
      "[1500]\tvalid_0's mape: 0.12589\tvalid_0's error: 0.123814\n",
      "[1600]\tvalid_0's mape: 0.12555\tvalid_0's error: 0.123466\n",
      "[1700]\tvalid_0's mape: 0.125298\tvalid_0's error: 0.123239\n",
      "[1800]\tvalid_0's mape: 0.125054\tvalid_0's error: 0.123007\n",
      "[1900]\tvalid_0's mape: 0.124801\tvalid_0's error: 0.122748\n",
      "[2000]\tvalid_0's mape: 0.124514\tvalid_0's error: 0.122463\n",
      "[2100]\tvalid_0's mape: 0.124275\tvalid_0's error: 0.122279\n",
      "[2200]\tvalid_0's mape: 0.124174\tvalid_0's error: 0.122107\n",
      "[2300]\tvalid_0's mape: 0.124061\tvalid_0's error: 0.121961\n",
      "[2400]\tvalid_0's mape: 0.123905\tvalid_0's error: 0.1218\n",
      "[2500]\tvalid_0's mape: 0.123742\tvalid_0's error: 0.121633\n",
      "[2600]\tvalid_0's mape: 0.123605\tvalid_0's error: 0.121461\n",
      "[2700]\tvalid_0's mape: 0.123528\tvalid_0's error: 0.121351\n",
      "[2800]\tvalid_0's mape: 0.123406\tvalid_0's error: 0.121251\n",
      "[2900]\tvalid_0's mape: 0.123355\tvalid_0's error: 0.121183\n",
      "[3000]\tvalid_0's mape: 0.123264\tvalid_0's error: 0.121088\n",
      "[3100]\tvalid_0's mape: 0.123229\tvalid_0's error: 0.121041\n",
      "[3200]\tvalid_0's mape: 0.123114\tvalid_0's error: 0.120949\n",
      "[3300]\tvalid_0's mape: 0.122994\tvalid_0's error: 0.12083\n",
      "[3400]\tvalid_0's mape: 0.122891\tvalid_0's error: 0.120725\n",
      "[3500]\tvalid_0's mape: 0.122852\tvalid_0's error: 0.120676\n",
      "[3600]\tvalid_0's mape: 0.122796\tvalid_0's error: 0.120616\n",
      "[3700]\tvalid_0's mape: 0.122776\tvalid_0's error: 0.120604\n",
      "[3800]\tvalid_0's mape: 0.122752\tvalid_0's error: 0.120585\n",
      "Early stopping, best iteration is:\n",
      "[3761]\tvalid_0's mape: 0.122729\tvalid_0's error: 0.120551\n",
      "Training until validation scores don't improve for 100 rounds.\n",
      "[100]\tvalid_0's mape: 0.139163\tvalid_0's error: 0.129821\n",
      "[200]\tvalid_0's mape: 0.136773\tvalid_0's error: 0.124751\n",
      "[300]\tvalid_0's mape: 0.13469\tvalid_0's error: 0.121356\n",
      "[400]\tvalid_0's mape: 0.133937\tvalid_0's error: 0.119567\n",
      "[500]\tvalid_0's mape: 0.133398\tvalid_0's error: 0.11836\n",
      "[600]\tvalid_0's mape: 0.133045\tvalid_0's error: 0.11767\n",
      "[700]\tvalid_0's mape: 0.132522\tvalid_0's error: 0.117243\n",
      "[800]\tvalid_0's mape: 0.132172\tvalid_0's error: 0.116781\n",
      "[900]\tvalid_0's mape: 0.131446\tvalid_0's error: 0.116077\n",
      "[1000]\tvalid_0's mape: 0.130986\tvalid_0's error: 0.1156\n",
      "[1100]\tvalid_0's mape: 0.1304\tvalid_0's error: 0.115071\n",
      "[1200]\tvalid_0's mape: 0.130064\tvalid_0's error: 0.114715\n",
      "[1300]\tvalid_0's mape: 0.12983\tvalid_0's error: 0.114474\n",
      "[1400]\tvalid_0's mape: 0.129652\tvalid_0's error: 0.114284\n",
      "[1500]\tvalid_0's mape: 0.129466\tvalid_0's error: 0.11412\n",
      "[1600]\tvalid_0's mape: 0.129344\tvalid_0's error: 0.114005\n",
      "[1700]\tvalid_0's mape: 0.12925\tvalid_0's error: 0.113903\n",
      "[1800]\tvalid_0's mape: 0.129242\tvalid_0's error: 0.113869\n",
      "Early stopping, best iteration is:\n",
      "[1727]\tvalid_0's mape: 0.129217\tvalid_0's error: 0.113874\n",
      "Training until validation scores don't improve for 100 rounds.\n",
      "[100]\tvalid_0's mape: 0.0297583\tvalid_0's error: 0.0299331\n",
      "[200]\tvalid_0's mape: 0.0272408\tvalid_0's error: 0.0275538\n",
      "[300]\tvalid_0's mape: 0.02659\tvalid_0's error: 0.0269625\n",
      "[400]\tvalid_0's mape: 0.0264394\tvalid_0's error: 0.02684\n",
      "[500]\tvalid_0's mape: 0.0263166\tvalid_0's error: 0.0267269\n",
      "[600]\tvalid_0's mape: 0.026277\tvalid_0's error: 0.0266964\n",
      "[700]\tvalid_0's mape: 0.0262403\tvalid_0's error: 0.0266644\n",
      "[800]\tvalid_0's mape: 0.0262388\tvalid_0's error: 0.0266674\n",
      "Early stopping, best iteration is:\n",
      "[723]\tvalid_0's mape: 0.0262339\tvalid_0's error: 0.0266588\n"
     ]
    }
   ],
   "source": [
    "# for label in ['PM2.5']:\n",
    "for label in ['PM2.5','PM10','O3']:\n",
    "    lgb_train = lgb.Dataset(train_feat[train_feat[label] > 0][predictors],encode[label](train_feat[train_feat[label] > 0][label]))\n",
    "    lgb_eval = lgb.Dataset(eval_feat[eval_feat[label] > 0][predictors], encode[label](eval_feat[eval_feat[label] > 0][label]))\n",
    "\n",
    "    gbm = lgb.train(params,\n",
    "                    train_set=lgb_train,\n",
    "                    num_boost_round=5000,\n",
    "                    valid_sets=lgb_eval,\n",
    "                    feval=smape_error,\n",
    "                    verbose_eval = 100,\n",
    "                    early_stopping_rounds = 100)\n",
    "#     feat_imp = pd.Series(gbm.feature_importance(), index=predictors).sort_values(ascending=False)\n",
    "    model_dict[label] = gbm"
   ]
  },
  {
   "cell_type": "code",
   "execution_count": 16,
   "metadata": {},
   "outputs": [],
   "source": [
    "pickle.dump((model_dict,predictors),open(data_path+'lightgbm.model','wb+'))"
   ]
  },
  {
   "cell_type": "code",
   "execution_count": null,
   "metadata": {},
   "outputs": [],
   "source": []
  },
  {
   "cell_type": "code",
   "execution_count": null,
   "metadata": {},
   "outputs": [],
   "source": []
  },
  {
   "cell_type": "code",
   "execution_count": null,
   "metadata": {},
   "outputs": [],
   "source": []
  }
 ],
 "metadata": {
  "kernelspec": {
   "display_name": "Python 3",
   "language": "python",
   "name": "python3"
  },
  "language_info": {
   "codemirror_mode": {
    "name": "ipython",
    "version": 3
   },
   "file_extension": ".py",
   "mimetype": "text/x-python",
   "name": "python",
   "nbconvert_exporter": "python",
   "pygments_lexer": "ipython3",
   "version": "3.5.5"
  }
 },
 "nbformat": 4,
 "nbformat_minor": 2
}
