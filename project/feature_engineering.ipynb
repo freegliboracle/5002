{
 "cells": [
  {
   "cell_type": "code",
   "execution_count": 1,
   "metadata": {},
   "outputs": [],
   "source": [
    "# this version go through both training and testing process\n",
    "# need improvement\n",
    "import os\n",
    "import pickle\n",
    "import datetime\n",
    "import numpy as np\n",
    "import pandas as pd\n",
    "from tqdm import tqdm\n",
    "import lightgbm as lgb\n",
    "from dateutil.parser import parse\n",
    "from datetime import timedelta\n",
    "from util import station_info, date_add_days, make_feat"
   ]
  },
  {
   "cell_type": "code",
   "execution_count": 2,
   "metadata": {},
   "outputs": [],
   "source": [
    "feature_path = './feature/'"
   ]
  },
  {
   "cell_type": "code",
   "execution_count": 3,
   "metadata": {},
   "outputs": [],
   "source": [
    "replace = True\n",
    "start_date = '2018-03-24'\n",
    "# range of days to compute feature\n",
    "days = 446\n",
    "data_feat_url = feature_path + 'data_feat_{}_{}days.hdf'.format(start_date,days)"
   ]
  },
  {
   "cell_type": "code",
   "execution_count": 4,
   "metadata": {},
   "outputs": [
    {
     "name": "stderr",
     "output_type": "stream",
     "text": [
      "\r",
      "  0%|                                                                                          | 0/446 [00:00<?, ?it/s]"
     ]
    },
    {
     "name": "stdout",
     "output_type": "stream",
     "text": [
      "data key is：2018-03-24\n",
      "data key is：2018-03-23\n",
      "data key is：2018-03-22\n"
     ]
    },
    {
     "name": "stderr",
     "output_type": "stream",
     "text": [
      "\r",
      "  1%|▌                                                                                 | 3/446 [00:00<00:15, 28.88it/s]"
     ]
    },
    {
     "name": "stdout",
     "output_type": "stream",
     "text": [
      "data key is：2018-03-21\n",
      "data key is：2018-03-20\n",
      "data key is：2018-03-19\n"
     ]
    },
    {
     "name": "stderr",
     "output_type": "stream",
     "text": [
      "\r",
      "  1%|█                                                                                 | 6/446 [00:00<00:15, 28.16it/s]"
     ]
    },
    {
     "name": "stdout",
     "output_type": "stream",
     "text": [
      "data key is：2018-03-18\n",
      "data key is：2018-03-17\n",
      "data key is：2018-03-16\n"
     ]
    },
    {
     "name": "stderr",
     "output_type": "stream",
     "text": [
      "\r",
      "  2%|█▋                                                                                | 9/446 [00:00<00:15, 27.83it/s]"
     ]
    },
    {
     "name": "stdout",
     "output_type": "stream",
     "text": [
      "data key is：2018-03-15\n",
      "data key is：2018-03-14\n",
      "data key is：2018-03-13\n",
      "data key is：2018-03-12\n"
     ]
    },
    {
     "name": "stderr",
     "output_type": "stream",
     "text": [
      "\r",
      "  3%|██▎                                                                              | 13/446 [00:00<00:15, 28.55it/s]"
     ]
    },
    {
     "name": "stdout",
     "output_type": "stream",
     "text": [
      "data key is：2018-03-11\n",
      "data key is：2018-03-10\n",
      "data key is：2018-03-09\n"
     ]
    },
    {
     "name": "stderr",
     "output_type": "stream",
     "text": [
      "\r",
      "  4%|██▉                                                                              | 16/446 [00:00<00:15, 27.94it/s]"
     ]
    },
    {
     "name": "stdout",
     "output_type": "stream",
     "text": [
      "data key is：2018-03-08\n",
      "data key is：2018-03-07\n",
      "data key is：2018-03-06\n"
     ]
    },
    {
     "name": "stderr",
     "output_type": "stream",
     "text": [
      "\r",
      "  4%|███▍                                                                             | 19/446 [00:00<00:15, 27.68it/s]"
     ]
    },
    {
     "name": "stdout",
     "output_type": "stream",
     "text": [
      "data key is：2018-03-05\n",
      "data key is：2018-03-04\n",
      "data key is：2018-03-03\n"
     ]
    },
    {
     "name": "stderr",
     "output_type": "stream",
     "text": [
      "\r",
      "  5%|███▉                                                                             | 22/446 [00:00<00:15, 27.43it/s]"
     ]
    },
    {
     "name": "stdout",
     "output_type": "stream",
     "text": [
      "data key is：2018-03-02\n",
      "data key is：2018-03-01\n",
      "data key is：2018-02-28\n"
     ]
    },
    {
     "name": "stderr",
     "output_type": "stream",
     "text": [
      "\r",
      "  6%|████▌                                                                            | 25/446 [00:00<00:15, 27.18it/s]"
     ]
    },
    {
     "name": "stdout",
     "output_type": "stream",
     "text": [
      "data key is：2018-02-27\n",
      "data key is：2018-02-26\n",
      "data key is：2018-02-25\n"
     ]
    },
    {
     "name": "stderr",
     "output_type": "stream",
     "text": [
      "\r",
      "  6%|█████                                                                            | 28/446 [00:01<00:15, 27.76it/s]"
     ]
    },
    {
     "name": "stdout",
     "output_type": "stream",
     "text": [
      "data key is：2018-02-24\n",
      "data key is：2018-02-23\n",
      "data key is：2018-02-22\n"
     ]
    },
    {
     "name": "stderr",
     "output_type": "stream",
     "text": [
      "\r",
      "  7%|█████▋                                                                           | 31/446 [00:01<00:15, 27.34it/s]"
     ]
    },
    {
     "name": "stdout",
     "output_type": "stream",
     "text": [
      "data key is：2018-02-21\n",
      "data key is：2018-02-20\n",
      "data key is：2018-02-19\n",
      "data key is：2018-02-18\n"
     ]
    },
    {
     "name": "stderr",
     "output_type": "stream",
     "text": [
      "\r",
      "  8%|██████▎                                                                          | 35/446 [00:01<00:14, 28.12it/s]"
     ]
    },
    {
     "name": "stdout",
     "output_type": "stream",
     "text": [
      "data key is：2018-02-17\n",
      "data key is：2018-02-16\n",
      "data key is：2018-02-15\n"
     ]
    },
    {
     "name": "stderr",
     "output_type": "stream",
     "text": [
      "\r",
      "  9%|██████▉                                                                          | 38/446 [00:01<00:14, 27.50it/s]"
     ]
    },
    {
     "name": "stdout",
     "output_type": "stream",
     "text": [
      "data key is：2018-02-14\n",
      "data key is：2018-02-13\n",
      "data key is：2018-02-12\n"
     ]
    },
    {
     "name": "stderr",
     "output_type": "stream",
     "text": [
      "\r",
      "  9%|███████▍                                                                         | 41/446 [00:01<00:14, 27.46it/s]"
     ]
    },
    {
     "name": "stdout",
     "output_type": "stream",
     "text": [
      "data key is：2018-02-11\n",
      "data key is：2018-02-10\n",
      "data key is：2018-02-09\n"
     ]
    },
    {
     "name": "stderr",
     "output_type": "stream",
     "text": [
      "\r",
      " 10%|███████▉                                                                         | 44/446 [00:01<00:14, 26.91it/s]"
     ]
    },
    {
     "name": "stdout",
     "output_type": "stream",
     "text": [
      "data key is：2018-02-08\n",
      "data key is：2018-02-07\n",
      "data key is：2018-02-06\n"
     ]
    },
    {
     "name": "stderr",
     "output_type": "stream",
     "text": [
      "\r",
      " 11%|████████▌                                                                        | 47/446 [00:01<00:15, 26.33it/s]"
     ]
    },
    {
     "name": "stdout",
     "output_type": "stream",
     "text": [
      "data key is：2018-02-05\n",
      "data key is：2018-02-04\n",
      "data key is：2018-02-03\n"
     ]
    },
    {
     "name": "stderr",
     "output_type": "stream",
     "text": [
      "\r",
      " 11%|█████████                                                                        | 50/446 [00:01<00:14, 27.20it/s]"
     ]
    },
    {
     "name": "stdout",
     "output_type": "stream",
     "text": [
      "data key is：2018-02-02\n",
      "data key is：2018-02-01\n",
      "data key is：2018-01-31\n",
      "data key is：2018-01-30\n"
     ]
    },
    {
     "name": "stderr",
     "output_type": "stream",
     "text": [
      "\r",
      " 12%|█████████▊                                                                       | 54/446 [00:01<00:14, 27.97it/s]"
     ]
    },
    {
     "name": "stdout",
     "output_type": "stream",
     "text": [
      "data key is：2018-01-29\n",
      "data key is：2018-01-28\n",
      "data key is：2018-01-27\n",
      "data key is：2018-01-26\n"
     ]
    },
    {
     "name": "stderr",
     "output_type": "stream",
     "text": [
      "\r",
      " 13%|██████████▌                                                                      | 58/446 [00:02<00:13, 28.90it/s]"
     ]
    },
    {
     "name": "stdout",
     "output_type": "stream",
     "text": [
      "data key is：2018-01-25\n",
      "data key is：2018-01-24\n",
      "data key is：2018-01-23\n"
     ]
    },
    {
     "name": "stderr",
     "output_type": "stream",
     "text": [
      "\r",
      " 14%|███████████                                                                      | 61/446 [00:02<00:13, 28.90it/s]"
     ]
    },
    {
     "name": "stdout",
     "output_type": "stream",
     "text": [
      "data key is：2018-01-22\n",
      "data key is：2018-01-21\n",
      "data key is：2018-01-20\n",
      "data key is：2018-01-19\n"
     ]
    },
    {
     "name": "stderr",
     "output_type": "stream",
     "text": [
      "\r",
      " 15%|███████████▊                                                                     | 65/446 [00:02<00:12, 29.86it/s]"
     ]
    },
    {
     "name": "stdout",
     "output_type": "stream",
     "text": [
      "data key is：2018-01-18\n",
      "data key is：2018-01-17\n",
      "data key is：2018-01-16\n",
      "data key is：2018-01-15\n"
     ]
    },
    {
     "name": "stderr",
     "output_type": "stream",
     "text": [
      "\r",
      " 15%|████████████▌                                                                    | 69/446 [00:02<00:12, 30.42it/s]"
     ]
    },
    {
     "name": "stdout",
     "output_type": "stream",
     "text": [
      "data key is：2018-01-14\n",
      "data key is：2018-01-13\n",
      "data key is：2018-01-12\n",
      "data key is：2018-01-11\n"
     ]
    },
    {
     "name": "stderr",
     "output_type": "stream",
     "text": [
      "\r",
      " 16%|█████████████▎                                                                   | 73/446 [00:02<00:12, 30.35it/s]"
     ]
    },
    {
     "name": "stdout",
     "output_type": "stream",
     "text": [
      "data key is：2018-01-10\n",
      "data key is：2018-01-09\n",
      "data key is：2018-01-08\n",
      "data key is：2018-01-07\n"
     ]
    },
    {
     "name": "stderr",
     "output_type": "stream",
     "text": [
      "\r",
      " 17%|█████████████▉                                                                   | 77/446 [00:02<00:12, 30.15it/s]"
     ]
    },
    {
     "name": "stdout",
     "output_type": "stream",
     "text": [
      "data key is：2018-01-06\n",
      "data key is：2018-01-05\n",
      "data key is：2018-01-04\n",
      "data key is：2018-01-03\n"
     ]
    },
    {
     "name": "stderr",
     "output_type": "stream",
     "text": [
      "\r",
      " 18%|██████████████▋                                                                  | 81/446 [00:02<00:11, 30.43it/s]"
     ]
    },
    {
     "name": "stdout",
     "output_type": "stream",
     "text": [
      "data key is：2018-01-02\n",
      "data key is：2018-01-01\n",
      "data key is：2017-12-31\n",
      "data key is：2017-12-30\n"
     ]
    },
    {
     "name": "stderr",
     "output_type": "stream",
     "text": [
      "\r",
      " 19%|███████████████▍                                                                 | 85/446 [00:02<00:11, 31.94it/s]"
     ]
    },
    {
     "name": "stdout",
     "output_type": "stream",
     "text": [
      "data key is：2017-12-29\n",
      "data key is：2017-12-28\n",
      "data key is：2017-12-27\n",
      "data key is：2017-12-26\n"
     ]
    },
    {
     "name": "stderr",
     "output_type": "stream",
     "text": [
      "\r",
      " 20%|████████████████▏                                                                | 89/446 [00:03<00:11, 32.14it/s]"
     ]
    },
    {
     "name": "stdout",
     "output_type": "stream",
     "text": [
      "data key is：2017-12-25\n",
      "data key is：2017-12-24\n",
      "data key is：2017-12-23\n",
      "data key is：2017-12-22\n"
     ]
    },
    {
     "name": "stderr",
     "output_type": "stream",
     "text": [
      "\r",
      " 21%|████████████████▉                                                                | 93/446 [00:03<00:10, 33.57it/s]"
     ]
    },
    {
     "name": "stdout",
     "output_type": "stream",
     "text": [
      "data key is：2017-12-21\n",
      "data key is：2017-12-20\n",
      "data key is：2017-12-19\n",
      "data key is：2017-12-18\n"
     ]
    },
    {
     "name": "stderr",
     "output_type": "stream",
     "text": [
      "\r",
      " 22%|█████████████████▌                                                               | 97/446 [00:03<00:10, 33.78it/s]"
     ]
    },
    {
     "name": "stdout",
     "output_type": "stream",
     "text": [
      "data key is：2017-12-17\n",
      "data key is：2017-12-16\n",
      "data key is：2017-12-15\n",
      "data key is：2017-12-14\n"
     ]
    },
    {
     "name": "stderr",
     "output_type": "stream",
     "text": [
      "\r",
      " 23%|██████████████████                                                              | 101/446 [00:03<00:09, 35.09it/s]"
     ]
    },
    {
     "name": "stdout",
     "output_type": "stream",
     "text": [
      "data key is：2017-12-13\n",
      "data key is：2017-12-12\n",
      "data key is：2017-12-11\n",
      "data key is：2017-12-10\n",
      "data key is：2017-12-09\n"
     ]
    },
    {
     "name": "stderr",
     "output_type": "stream",
     "text": [
      "\r",
      " 24%|███████████████████                                                             | 106/446 [00:03<00:09, 35.98it/s]"
     ]
    },
    {
     "name": "stdout",
     "output_type": "stream",
     "text": [
      "data key is：2017-12-08\n",
      "data key is：2017-12-07\n",
      "data key is：2017-12-06\n",
      "data key is：2017-12-05\n",
      "data key is：2017-12-04\n"
     ]
    },
    {
     "name": "stderr",
     "output_type": "stream",
     "text": [
      "\r",
      " 25%|███████████████████▉                                                            | 111/446 [00:03<00:09, 37.13it/s]"
     ]
    },
    {
     "name": "stdout",
     "output_type": "stream",
     "text": [
      "data key is：2017-12-03\n",
      "data key is：2017-12-02\n",
      "data key is：2017-12-01\n",
      "data key is：2017-11-30\n",
      "data key is：2017-11-29\n"
     ]
    },
    {
     "name": "stderr",
     "output_type": "stream",
     "text": [
      "\r",
      " 26%|████████████████████▊                                                           | 116/446 [00:03<00:08, 37.98it/s]"
     ]
    },
    {
     "name": "stdout",
     "output_type": "stream",
     "text": [
      "data key is：2017-11-28\n",
      "data key is：2017-11-27\n",
      "data key is：2017-11-26\n",
      "data key is：2017-11-25\n"
     ]
    },
    {
     "name": "stderr",
     "output_type": "stream",
     "text": [
      "\r",
      " 27%|█████████████████████▌                                                          | 120/446 [00:03<00:09, 35.13it/s]"
     ]
    },
    {
     "name": "stdout",
     "output_type": "stream",
     "text": [
      "data key is：2017-11-24\n",
      "data key is：2017-11-23\n",
      "data key is：2017-11-22\n",
      "data key is：2017-11-21\n"
     ]
    },
    {
     "name": "stderr",
     "output_type": "stream",
     "text": [
      "\r",
      " 28%|██████████████████████▏                                                         | 124/446 [00:04<00:08, 35.91it/s]"
     ]
    },
    {
     "name": "stdout",
     "output_type": "stream",
     "text": [
      "data key is：2017-11-20\n",
      "data key is：2017-11-19\n",
      "data key is：2017-11-18\n",
      "data key is：2017-11-17\n"
     ]
    },
    {
     "name": "stderr",
     "output_type": "stream",
     "text": [
      "\r",
      " 29%|██████████████████████▉                                                         | 128/446 [00:04<00:08, 35.78it/s]"
     ]
    },
    {
     "name": "stdout",
     "output_type": "stream",
     "text": [
      "data key is：2017-11-16\n",
      "data key is：2017-11-15\n",
      "data key is：2017-11-14\n",
      "data key is：2017-11-13\n"
     ]
    },
    {
     "name": "stderr",
     "output_type": "stream",
     "text": [
      "\r",
      " 30%|███████████████████████▋                                                        | 132/446 [00:04<00:09, 33.89it/s]"
     ]
    },
    {
     "name": "stdout",
     "output_type": "stream",
     "text": [
      "data key is：2017-11-12\n",
      "data key is：2017-11-11\n",
      "data key is：2017-11-10\n",
      "data key is：2017-11-09\n"
     ]
    },
    {
     "name": "stderr",
     "output_type": "stream",
     "text": [
      "\r",
      " 30%|████████████████████████▍                                                       | 136/446 [00:04<00:09, 33.25it/s]"
     ]
    },
    {
     "name": "stdout",
     "output_type": "stream",
     "text": [
      "data key is：2017-11-08\n",
      "data key is：2017-11-07\n",
      "data key is：2017-11-06\n",
      "data key is：2017-11-05\n"
     ]
    },
    {
     "name": "stderr",
     "output_type": "stream",
     "text": [
      "\r",
      " 31%|█████████████████████████                                                       | 140/446 [00:04<00:09, 33.46it/s]"
     ]
    },
    {
     "name": "stdout",
     "output_type": "stream",
     "text": [
      "data key is：2017-11-04\n",
      "data key is：2017-11-03\n",
      "data key is：2017-11-02\n",
      "data key is：2017-11-01\n"
     ]
    },
    {
     "name": "stderr",
     "output_type": "stream",
     "text": [
      "\r",
      " 32%|█████████████████████████▊                                                      | 144/446 [00:04<00:08, 34.13it/s]"
     ]
    },
    {
     "name": "stdout",
     "output_type": "stream",
     "text": [
      "data key is：2017-10-31\n",
      "data key is：2017-10-30\n",
      "data key is：2017-10-29\n",
      "data key is：2017-10-28\n"
     ]
    },
    {
     "name": "stderr",
     "output_type": "stream",
     "text": [
      "\r",
      " 33%|██████████████████████████▌                                                     | 148/446 [00:04<00:08, 34.89it/s]"
     ]
    },
    {
     "name": "stdout",
     "output_type": "stream",
     "text": [
      "data key is：2017-10-27\n",
      "data key is：2017-10-26\n",
      "data key is：2017-10-25\n",
      "data key is：2017-10-24\n"
     ]
    },
    {
     "name": "stderr",
     "output_type": "stream",
     "text": [
      "\r",
      " 34%|███████████████████████████▎                                                    | 152/446 [00:04<00:08, 34.43it/s]"
     ]
    },
    {
     "name": "stdout",
     "output_type": "stream",
     "text": [
      "data key is：2017-10-23\n",
      "data key is：2017-10-22\n",
      "data key is：2017-10-21\n",
      "data key is：2017-10-20\n"
     ]
    },
    {
     "name": "stderr",
     "output_type": "stream",
     "text": [
      "\r",
      " 35%|███████████████████████████▉                                                    | 156/446 [00:04<00:08, 33.53it/s]"
     ]
    },
    {
     "name": "stdout",
     "output_type": "stream",
     "text": [
      "data key is：2017-10-19\n",
      "data key is：2017-10-18\n",
      "data key is：2017-10-17\n",
      "data key is：2017-10-16\n"
     ]
    },
    {
     "name": "stderr",
     "output_type": "stream",
     "text": [
      "\r",
      " 36%|████████████████████████████▋                                                   | 160/446 [00:05<00:08, 33.83it/s]"
     ]
    },
    {
     "name": "stdout",
     "output_type": "stream",
     "text": [
      "data key is：2017-10-15\n",
      "data key is：2017-10-14\n",
      "data key is：2017-10-13\n",
      "data key is：2017-10-12\n"
     ]
    },
    {
     "name": "stderr",
     "output_type": "stream",
     "text": [
      "\r",
      " 37%|█████████████████████████████▍                                                  | 164/446 [00:05<00:08, 33.89it/s]"
     ]
    },
    {
     "name": "stdout",
     "output_type": "stream",
     "text": [
      "data key is：2017-10-11\n",
      "data key is：2017-10-10\n",
      "data key is：2017-10-09\n",
      "data key is：2017-10-08\n"
     ]
    },
    {
     "name": "stderr",
     "output_type": "stream",
     "text": [
      "\r",
      " 38%|██████████████████████████████▏                                                 | 168/446 [00:05<00:08, 34.00it/s]"
     ]
    },
    {
     "name": "stdout",
     "output_type": "stream",
     "text": [
      "data key is：2017-10-07\n",
      "data key is：2017-10-06\n",
      "data key is：2017-10-05\n",
      "data key is：2017-10-04\n"
     ]
    },
    {
     "name": "stderr",
     "output_type": "stream",
     "text": [
      "\r",
      " 39%|██████████████████████████████▊                                                 | 172/446 [00:05<00:08, 34.00it/s]"
     ]
    },
    {
     "name": "stdout",
     "output_type": "stream",
     "text": [
      "data key is：2017-10-03\n",
      "data key is：2017-10-02\n",
      "data key is：2017-10-01\n",
      "data key is：2017-09-30\n"
     ]
    },
    {
     "name": "stderr",
     "output_type": "stream",
     "text": [
      "\r",
      " 39%|███████████████████████████████▌                                                | 176/446 [00:05<00:08, 32.91it/s]"
     ]
    },
    {
     "name": "stdout",
     "output_type": "stream",
     "text": [
      "data key is：2017-09-29\n",
      "data key is：2017-09-28\n",
      "data key is：2017-09-27\n",
      "data key is：2017-09-26\n"
     ]
    },
    {
     "name": "stderr",
     "output_type": "stream",
     "text": [
      "\r",
      " 40%|████████████████████████████████▎                                               | 180/446 [00:05<00:07, 34.60it/s]"
     ]
    },
    {
     "name": "stdout",
     "output_type": "stream",
     "text": [
      "data key is：2017-09-25\n",
      "data key is：2017-09-24\n",
      "data key is：2017-09-23\n",
      "data key is：2017-09-22\n"
     ]
    },
    {
     "name": "stderr",
     "output_type": "stream",
     "text": [
      "\r",
      " 41%|█████████████████████████████████                                               | 184/446 [00:05<00:07, 34.95it/s]"
     ]
    },
    {
     "name": "stdout",
     "output_type": "stream",
     "text": [
      "data key is：2017-09-21\n",
      "data key is：2017-09-20\n",
      "data key is：2017-09-19\n",
      "data key is：2017-09-18\n"
     ]
    },
    {
     "name": "stderr",
     "output_type": "stream",
     "text": [
      "\r",
      " 42%|█████████████████████████████████▋                                              | 188/446 [00:05<00:07, 33.03it/s]"
     ]
    },
    {
     "name": "stdout",
     "output_type": "stream",
     "text": [
      "data key is：2017-09-17\n",
      "data key is：2017-09-16\n",
      "data key is：2017-09-15\n",
      "data key is：2017-09-14\n"
     ]
    },
    {
     "name": "stderr",
     "output_type": "stream",
     "text": [
      "\r",
      " 43%|██████████████████████████████████▍                                             | 192/446 [00:06<00:07, 32.42it/s]"
     ]
    },
    {
     "name": "stdout",
     "output_type": "stream",
     "text": [
      "data key is：2017-09-13\n",
      "data key is：2017-09-12\n",
      "data key is：2017-09-11\n",
      "data key is：2017-09-10\n"
     ]
    },
    {
     "name": "stderr",
     "output_type": "stream",
     "text": [
      "\r",
      " 44%|███████████████████████████████████▏                                            | 196/446 [00:06<00:07, 33.04it/s]"
     ]
    },
    {
     "name": "stdout",
     "output_type": "stream",
     "text": [
      "data key is：2017-09-09\n",
      "data key is：2017-09-08\n",
      "data key is：2017-09-07\n",
      "data key is：2017-09-06\n"
     ]
    },
    {
     "name": "stderr",
     "output_type": "stream",
     "text": [
      "\r",
      " 45%|███████████████████████████████████▊                                            | 200/446 [00:06<00:07, 32.91it/s]"
     ]
    },
    {
     "name": "stdout",
     "output_type": "stream",
     "text": [
      "data key is：2017-09-05\n",
      "data key is：2017-09-04\n",
      "data key is：2017-09-03\n",
      "data key is：2017-09-02\n"
     ]
    },
    {
     "name": "stderr",
     "output_type": "stream",
     "text": [
      "\r",
      " 46%|████████████████████████████████████▌                                           | 204/446 [00:06<00:07, 33.82it/s]"
     ]
    },
    {
     "name": "stdout",
     "output_type": "stream",
     "text": [
      "data key is：2017-09-01\n",
      "data key is：2017-08-31\n",
      "data key is：2017-08-30\n",
      "data key is：2017-08-29\n",
      "data key is：2017-08-28\n"
     ]
    },
    {
     "name": "stderr",
     "output_type": "stream",
     "text": [
      "\r",
      " 47%|█████████████████████████████████████▍                                          | 209/446 [00:06<00:06, 35.71it/s]"
     ]
    },
    {
     "name": "stdout",
     "output_type": "stream",
     "text": [
      "data key is：2017-08-27\n",
      "data key is：2017-08-26\n",
      "data key is：2017-08-25\n",
      "data key is：2017-08-24\n"
     ]
    },
    {
     "name": "stderr",
     "output_type": "stream",
     "text": [
      "\r",
      " 48%|██████████████████████████████████████▏                                         | 213/446 [00:06<00:06, 35.17it/s]"
     ]
    },
    {
     "name": "stdout",
     "output_type": "stream",
     "text": [
      "data key is：2017-08-23\n",
      "data key is：2017-08-22\n",
      "data key is：2017-08-21\n",
      "data key is：2017-08-20\n"
     ]
    },
    {
     "name": "stderr",
     "output_type": "stream",
     "text": [
      "\r",
      " 49%|██████████████████████████████████████▉                                         | 217/446 [00:06<00:06, 34.90it/s]"
     ]
    },
    {
     "name": "stdout",
     "output_type": "stream",
     "text": [
      "data key is：2017-08-19\n",
      "data key is：2017-08-18\n",
      "data key is：2017-08-17\n",
      "data key is：2017-08-16\n"
     ]
    },
    {
     "name": "stderr",
     "output_type": "stream",
     "text": [
      "\r",
      " 50%|███████████████████████████████████████▋                                        | 221/446 [00:06<00:06, 34.19it/s]"
     ]
    },
    {
     "name": "stdout",
     "output_type": "stream",
     "text": [
      "data key is：2017-08-15\n",
      "data key is：2017-08-14\n",
      "data key is：2017-08-13\n",
      "data key is：2017-08-12\n"
     ]
    },
    {
     "name": "stderr",
     "output_type": "stream",
     "text": [
      "\r",
      " 50%|████████████████████████████████████████▎                                       | 225/446 [00:06<00:06, 33.86it/s]"
     ]
    },
    {
     "name": "stdout",
     "output_type": "stream",
     "text": [
      "data key is：2017-08-11\n",
      "data key is：2017-08-10\n",
      "data key is：2017-08-09\n",
      "data key is：2017-08-08\n"
     ]
    },
    {
     "name": "stderr",
     "output_type": "stream",
     "text": [
      "\r",
      " 51%|█████████████████████████████████████████                                       | 229/446 [00:07<00:06, 34.25it/s]"
     ]
    },
    {
     "name": "stdout",
     "output_type": "stream",
     "text": [
      "data key is：2017-08-07\n",
      "data key is：2017-08-06\n",
      "data key is：2017-08-05\n",
      "data key is：2017-08-04\n"
     ]
    },
    {
     "name": "stderr",
     "output_type": "stream",
     "text": [
      "\r",
      " 52%|█████████████████████████████████████████▊                                      | 233/446 [00:07<00:06, 34.79it/s]"
     ]
    },
    {
     "name": "stdout",
     "output_type": "stream",
     "text": [
      "data key is：2017-08-03\n",
      "data key is：2017-08-02\n",
      "data key is：2017-08-01\n",
      "data key is：2017-07-31\n"
     ]
    },
    {
     "name": "stderr",
     "output_type": "stream",
     "text": [
      "\r",
      " 53%|██████████████████████████████████████████▌                                     | 237/446 [00:07<00:06, 34.45it/s]"
     ]
    },
    {
     "name": "stdout",
     "output_type": "stream",
     "text": [
      "data key is：2017-07-30\n",
      "data key is：2017-07-29\n",
      "data key is：2017-07-28\n",
      "data key is：2017-07-27\n"
     ]
    },
    {
     "name": "stderr",
     "output_type": "stream",
     "text": [
      "\r",
      " 54%|███████████████████████████████████████████▏                                    | 241/446 [00:07<00:06, 33.21it/s]"
     ]
    },
    {
     "name": "stdout",
     "output_type": "stream",
     "text": [
      "data key is：2017-07-26\n",
      "data key is：2017-07-25\n",
      "data key is：2017-07-24\n",
      "data key is：2017-07-23\n"
     ]
    },
    {
     "name": "stderr",
     "output_type": "stream",
     "text": [
      "\r",
      " 55%|███████████████████████████████████████████▉                                    | 245/446 [00:07<00:05, 34.21it/s]"
     ]
    },
    {
     "name": "stdout",
     "output_type": "stream",
     "text": [
      "data key is：2017-07-22\n",
      "data key is：2017-07-21\n",
      "data key is：2017-07-20\n",
      "data key is：2017-07-19\n"
     ]
    },
    {
     "name": "stderr",
     "output_type": "stream",
     "text": [
      "\r",
      " 56%|████████████████████████████████████████████▋                                   | 249/446 [00:07<00:05, 33.63it/s]"
     ]
    },
    {
     "name": "stdout",
     "output_type": "stream",
     "text": [
      "data key is：2017-07-18\n",
      "data key is：2017-07-17\n",
      "data key is：2017-07-16\n",
      "data key is：2017-07-15\n"
     ]
    },
    {
     "name": "stderr",
     "output_type": "stream",
     "text": [
      "\r",
      " 57%|█████████████████████████████████████████████▍                                  | 253/446 [00:07<00:05, 33.65it/s]"
     ]
    },
    {
     "name": "stdout",
     "output_type": "stream",
     "text": [
      "data key is：2017-07-14\n",
      "data key is：2017-07-13\n",
      "data key is：2017-07-12\n",
      "data key is：2017-07-11\n"
     ]
    },
    {
     "name": "stderr",
     "output_type": "stream",
     "text": [
      "\r",
      " 58%|██████████████████████████████████████████████                                  | 257/446 [00:07<00:05, 33.50it/s]"
     ]
    },
    {
     "name": "stdout",
     "output_type": "stream",
     "text": [
      "data key is：2017-07-10\n",
      "data key is：2017-07-09\n",
      "data key is：2017-07-08\n",
      "data key is：2017-07-07\n"
     ]
    },
    {
     "name": "stderr",
     "output_type": "stream",
     "text": [
      "\r",
      " 59%|██████████████████████████████████████████████▊                                 | 261/446 [00:08<00:05, 32.73it/s]"
     ]
    },
    {
     "name": "stdout",
     "output_type": "stream",
     "text": [
      "data key is：2017-07-06\n",
      "data key is：2017-07-05\n",
      "data key is：2017-07-04\n",
      "data key is：2017-07-03\n"
     ]
    },
    {
     "name": "stderr",
     "output_type": "stream",
     "text": [
      "\r",
      " 59%|███████████████████████████████████████████████▌                                | 265/446 [00:08<00:05, 34.30it/s]"
     ]
    },
    {
     "name": "stdout",
     "output_type": "stream",
     "text": [
      "data key is：2017-07-02\n",
      "data key is：2017-07-01\n",
      "data key is：2017-06-30\n",
      "data key is：2017-06-29\n"
     ]
    },
    {
     "name": "stderr",
     "output_type": "stream",
     "text": [
      "\r",
      " 60%|████████████████████████████████████████████████▎                               | 269/446 [00:08<00:05, 33.26it/s]"
     ]
    },
    {
     "name": "stdout",
     "output_type": "stream",
     "text": [
      "data key is：2017-06-28\n",
      "data key is：2017-06-27\n",
      "data key is：2017-06-26\n",
      "data key is：2017-06-25\n"
     ]
    },
    {
     "name": "stderr",
     "output_type": "stream",
     "text": [
      "\r",
      " 61%|████████████████████████████████████████████████▉                               | 273/446 [00:08<00:05, 33.31it/s]"
     ]
    },
    {
     "name": "stdout",
     "output_type": "stream",
     "text": [
      "data key is：2017-06-24\n",
      "data key is：2017-06-23\n",
      "data key is：2017-06-22\n",
      "data key is：2017-06-21\n"
     ]
    },
    {
     "name": "stderr",
     "output_type": "stream",
     "text": [
      "\r",
      " 62%|█████████████████████████████████████████████████▋                              | 277/446 [00:08<00:05, 32.54it/s]"
     ]
    },
    {
     "name": "stdout",
     "output_type": "stream",
     "text": [
      "data key is：2017-06-20\n",
      "data key is：2017-06-19\n",
      "data key is：2017-06-18\n",
      "data key is：2017-06-17\n"
     ]
    },
    {
     "name": "stderr",
     "output_type": "stream",
     "text": [
      "\r",
      " 63%|██████████████████████████████████████████████████▍                             | 281/446 [00:08<00:05, 31.70it/s]"
     ]
    },
    {
     "name": "stdout",
     "output_type": "stream",
     "text": [
      "data key is：2017-06-16\n",
      "data key is：2017-06-15\n",
      "data key is：2017-06-14\n",
      "data key is：2017-06-13\n"
     ]
    },
    {
     "name": "stderr",
     "output_type": "stream",
     "text": [
      "\r",
      " 64%|███████████████████████████████████████████████████                             | 285/446 [00:08<00:05, 31.45it/s]"
     ]
    },
    {
     "name": "stdout",
     "output_type": "stream",
     "text": [
      "data key is：2017-06-12\n",
      "data key is：2017-06-11\n",
      "data key is：2017-06-10\n",
      "data key is：2017-06-09\n"
     ]
    },
    {
     "name": "stderr",
     "output_type": "stream",
     "text": [
      "\r",
      " 65%|███████████████████████████████████████████████████▊                            | 289/446 [00:08<00:04, 31.71it/s]"
     ]
    },
    {
     "name": "stdout",
     "output_type": "stream",
     "text": [
      "data key is：2017-06-08\n",
      "data key is：2017-06-07\n",
      "data key is：2017-06-06\n",
      "data key is：2017-06-05\n"
     ]
    },
    {
     "name": "stderr",
     "output_type": "stream",
     "text": [
      "\r",
      " 66%|████████████████████████████████████████████████████▌                           | 293/446 [00:09<00:05, 28.32it/s]"
     ]
    },
    {
     "name": "stdout",
     "output_type": "stream",
     "text": [
      "data key is：2017-06-04\n",
      "data key is：2017-06-03\n",
      "data key is：2017-06-02\n",
      "data key is：2017-06-01\n"
     ]
    },
    {
     "name": "stderr",
     "output_type": "stream",
     "text": [
      "\r",
      " 67%|█████████████████████████████████████████████████████▎                          | 297/446 [00:09<00:04, 30.01it/s]"
     ]
    },
    {
     "name": "stdout",
     "output_type": "stream",
     "text": [
      "data key is：2017-05-31\n",
      "data key is：2017-05-30\n",
      "data key is：2017-05-29\n",
      "data key is：2017-05-28\n"
     ]
    },
    {
     "name": "stderr",
     "output_type": "stream",
     "text": [
      "\r",
      " 67%|█████████████████████████████████████████████████████▉                          | 301/446 [00:09<00:04, 30.53it/s]"
     ]
    },
    {
     "name": "stdout",
     "output_type": "stream",
     "text": [
      "data key is：2017-05-27\n",
      "data key is：2017-05-26\n",
      "data key is：2017-05-25\n",
      "data key is：2017-05-24\n"
     ]
    },
    {
     "name": "stderr",
     "output_type": "stream",
     "text": [
      "\r",
      " 68%|██████████████████████████████████████████████████████▋                         | 305/446 [00:09<00:04, 31.64it/s]"
     ]
    },
    {
     "name": "stdout",
     "output_type": "stream",
     "text": [
      "data key is：2017-05-23\n",
      "data key is：2017-05-22\n",
      "data key is：2017-05-21\n",
      "data key is：2017-05-20\n"
     ]
    },
    {
     "name": "stderr",
     "output_type": "stream",
     "text": [
      "\r",
      " 69%|███████████████████████████████████████████████████████▍                        | 309/446 [00:09<00:04, 31.26it/s]"
     ]
    },
    {
     "name": "stdout",
     "output_type": "stream",
     "text": [
      "data key is：2017-05-19\n",
      "data key is：2017-05-18\n",
      "data key is：2017-05-17\n",
      "data key is：2017-05-16\n"
     ]
    },
    {
     "name": "stderr",
     "output_type": "stream",
     "text": [
      "\r",
      " 70%|████████████████████████████████████████████████████████▏                       | 313/446 [00:09<00:04, 31.72it/s]"
     ]
    },
    {
     "name": "stdout",
     "output_type": "stream",
     "text": [
      "data key is：2017-05-15\n",
      "data key is：2017-05-14\n",
      "data key is：2017-05-13\n",
      "data key is：2017-05-12\n"
     ]
    },
    {
     "name": "stderr",
     "output_type": "stream",
     "text": [
      "\r",
      " 71%|████████████████████████████████████████████████████████▊                       | 317/446 [00:09<00:03, 32.29it/s]"
     ]
    },
    {
     "name": "stdout",
     "output_type": "stream",
     "text": [
      "data key is：2017-05-11\n",
      "data key is：2017-05-10\n",
      "data key is：2017-05-09\n",
      "data key is：2017-05-08\n"
     ]
    },
    {
     "name": "stderr",
     "output_type": "stream",
     "text": [
      "\r",
      " 72%|█████████████████████████████████████████████████████████▌                      | 321/446 [00:09<00:03, 32.39it/s]"
     ]
    },
    {
     "name": "stdout",
     "output_type": "stream",
     "text": [
      "data key is：2017-05-07\n",
      "data key is：2017-05-06\n",
      "data key is：2017-05-05\n",
      "data key is：2017-05-04\n"
     ]
    },
    {
     "name": "stderr",
     "output_type": "stream",
     "text": [
      "\r",
      " 73%|██████████████████████████████████████████████████████████▎                     | 325/446 [00:10<00:03, 32.06it/s]"
     ]
    },
    {
     "name": "stdout",
     "output_type": "stream",
     "text": [
      "data key is：2017-05-03\n",
      "data key is：2017-05-02\n",
      "data key is：2017-05-01\n",
      "data key is：2017-04-30\n"
     ]
    },
    {
     "name": "stderr",
     "output_type": "stream",
     "text": [
      "\r",
      " 74%|███████████████████████████████████████████████████████████                     | 329/446 [00:10<00:03, 32.31it/s]"
     ]
    },
    {
     "name": "stdout",
     "output_type": "stream",
     "text": [
      "data key is：2017-04-29\n",
      "data key is：2017-04-28\n",
      "data key is：2017-04-27\n",
      "data key is：2017-04-26\n"
     ]
    },
    {
     "name": "stderr",
     "output_type": "stream",
     "text": [
      "\r",
      " 75%|███████████████████████████████████████████████████████████▋                    | 333/446 [00:10<00:03, 31.55it/s]"
     ]
    },
    {
     "name": "stdout",
     "output_type": "stream",
     "text": [
      "data key is：2017-04-25\n",
      "data key is：2017-04-24\n",
      "data key is：2017-04-23\n",
      "data key is：2017-04-22\n"
     ]
    },
    {
     "name": "stderr",
     "output_type": "stream",
     "text": [
      "\r",
      " 76%|████████████████████████████████████████████████████████████▍                   | 337/446 [00:10<00:03, 30.76it/s]"
     ]
    },
    {
     "name": "stdout",
     "output_type": "stream",
     "text": [
      "data key is：2017-04-21\n",
      "data key is：2017-04-20\n",
      "data key is：2017-04-19\n",
      "data key is：2017-04-18\n"
     ]
    },
    {
     "name": "stderr",
     "output_type": "stream",
     "text": [
      "\r",
      " 76%|█████████████████████████████████████████████████████████████▏                  | 341/446 [00:10<00:03, 30.79it/s]"
     ]
    },
    {
     "name": "stdout",
     "output_type": "stream",
     "text": [
      "data key is：2017-04-17\n",
      "data key is：2017-04-16\n",
      "data key is：2017-04-15\n",
      "data key is：2017-04-14\n"
     ]
    },
    {
     "name": "stderr",
     "output_type": "stream",
     "text": [
      "\r",
      " 77%|█████████████████████████████████████████████████████████████▉                  | 345/446 [00:10<00:03, 30.46it/s]"
     ]
    },
    {
     "name": "stdout",
     "output_type": "stream",
     "text": [
      "data key is：2017-04-13\n",
      "data key is：2017-04-12\n",
      "data key is：2017-04-11\n",
      "data key is：2017-04-10\n"
     ]
    },
    {
     "name": "stderr",
     "output_type": "stream",
     "text": [
      "\r",
      " 78%|██████████████████████████████████████████████████████████████▌                 | 349/446 [00:10<00:03, 31.15it/s]"
     ]
    },
    {
     "name": "stdout",
     "output_type": "stream",
     "text": [
      "data key is：2017-04-09\n",
      "data key is：2017-04-08\n",
      "data key is：2017-04-07\n",
      "data key is：2017-04-06\n"
     ]
    },
    {
     "name": "stderr",
     "output_type": "stream",
     "text": [
      "\r",
      " 79%|███████████████████████████████████████████████████████████████▎                | 353/446 [00:11<00:03, 30.49it/s]"
     ]
    },
    {
     "name": "stdout",
     "output_type": "stream",
     "text": [
      "data key is：2017-04-05\n",
      "data key is：2017-04-04\n",
      "data key is：2017-04-03\n",
      "data key is：2017-04-02\n"
     ]
    },
    {
     "name": "stderr",
     "output_type": "stream",
     "text": [
      "\r",
      " 80%|████████████████████████████████████████████████████████████████                | 357/446 [00:11<00:02, 30.60it/s]"
     ]
    },
    {
     "name": "stdout",
     "output_type": "stream",
     "text": [
      "data key is：2017-04-01\n",
      "data key is：2017-03-31\n",
      "data key is：2017-03-30\n",
      "data key is：2017-03-29\n"
     ]
    },
    {
     "name": "stderr",
     "output_type": "stream",
     "text": [
      "\r",
      " 81%|████████████████████████████████████████████████████████████████▊               | 361/446 [00:11<00:02, 30.67it/s]"
     ]
    },
    {
     "name": "stdout",
     "output_type": "stream",
     "text": [
      "data key is：2017-03-28\n",
      "data key is：2017-03-27\n",
      "data key is：2017-03-26\n",
      "data key is：2017-03-25\n"
     ]
    },
    {
     "name": "stderr",
     "output_type": "stream",
     "text": [
      "\r",
      " 82%|█████████████████████████████████████████████████████████████████▍              | 365/446 [00:11<00:02, 32.21it/s]"
     ]
    },
    {
     "name": "stdout",
     "output_type": "stream",
     "text": [
      "data key is：2017-03-24\n",
      "data key is：2017-03-23\n",
      "data key is：2017-03-22\n",
      "data key is：2017-03-21\n"
     ]
    },
    {
     "name": "stderr",
     "output_type": "stream",
     "text": [
      "\r",
      " 83%|██████████████████████████████████████████████████████████████████▏             | 369/446 [00:11<00:02, 31.34it/s]"
     ]
    },
    {
     "name": "stdout",
     "output_type": "stream",
     "text": [
      "data key is：2017-03-20\n",
      "data key is：2017-03-19\n",
      "data key is：2017-03-18\n",
      "data key is：2017-03-17\n"
     ]
    },
    {
     "name": "stderr",
     "output_type": "stream",
     "text": [
      "\r",
      " 84%|██████████████████████████████████████████████████████████████████▉             | 373/446 [00:11<00:02, 31.27it/s]"
     ]
    },
    {
     "name": "stdout",
     "output_type": "stream",
     "text": [
      "data key is：2017-03-16\n",
      "data key is：2017-03-15\n",
      "data key is：2017-03-14\n",
      "data key is：2017-03-13\n"
     ]
    },
    {
     "name": "stderr",
     "output_type": "stream",
     "text": [
      "\r",
      " 85%|███████████████████████████████████████████████████████████████████▌            | 377/446 [00:11<00:02, 31.28it/s]"
     ]
    },
    {
     "name": "stdout",
     "output_type": "stream",
     "text": [
      "data key is：2017-03-12\n",
      "data key is：2017-03-11\n",
      "data key is：2017-03-10\n",
      "data key is：2017-03-09\n"
     ]
    },
    {
     "name": "stderr",
     "output_type": "stream",
     "text": [
      "\r",
      " 85%|████████████████████████████████████████████████████████████████████▎           | 381/446 [00:11<00:02, 31.45it/s]"
     ]
    },
    {
     "name": "stdout",
     "output_type": "stream",
     "text": [
      "data key is：2017-03-08\n",
      "data key is：2017-03-07\n",
      "data key is：2017-03-06\n",
      "data key is：2017-03-05\n"
     ]
    },
    {
     "name": "stderr",
     "output_type": "stream",
     "text": [
      "\r",
      " 86%|█████████████████████████████████████████████████████████████████████           | 385/446 [00:12<00:01, 31.49it/s]"
     ]
    },
    {
     "name": "stdout",
     "output_type": "stream",
     "text": [
      "data key is：2017-03-04\n",
      "data key is：2017-03-03\n",
      "data key is：2017-03-02\n",
      "data key is：2017-03-01\n"
     ]
    },
    {
     "name": "stderr",
     "output_type": "stream",
     "text": [
      "\r",
      " 87%|█████████████████████████████████████████████████████████████████████▊          | 389/446 [00:12<00:01, 31.44it/s]"
     ]
    },
    {
     "name": "stdout",
     "output_type": "stream",
     "text": [
      "data key is：2017-02-28\n",
      "data key is：2017-02-27\n",
      "data key is：2017-02-26\n",
      "data key is：2017-02-25\n"
     ]
    },
    {
     "name": "stderr",
     "output_type": "stream",
     "text": [
      "\r",
      " 88%|██████████████████████████████████████████████████████████████████████▍         | 393/446 [00:12<00:01, 30.76it/s]"
     ]
    },
    {
     "name": "stdout",
     "output_type": "stream",
     "text": [
      "data key is：2017-02-24\n",
      "data key is：2017-02-23\n",
      "data key is：2017-02-22\n",
      "data key is：2017-02-21\n"
     ]
    },
    {
     "name": "stderr",
     "output_type": "stream",
     "text": [
      "\r",
      " 89%|███████████████████████████████████████████████████████████████████████▏        | 397/446 [00:12<00:01, 32.28it/s]"
     ]
    },
    {
     "name": "stdout",
     "output_type": "stream",
     "text": [
      "data key is：2017-02-20\n",
      "data key is：2017-02-19\n",
      "data key is：2017-02-18\n",
      "data key is：2017-02-17\n"
     ]
    },
    {
     "name": "stderr",
     "output_type": "stream",
     "text": [
      "\r",
      " 90%|███████████████████████████████████████████████████████████████████████▉        | 401/446 [00:12<00:01, 32.61it/s]"
     ]
    },
    {
     "name": "stdout",
     "output_type": "stream",
     "text": [
      "data key is：2017-02-16\n",
      "data key is：2017-02-15\n",
      "data key is：2017-02-14\n",
      "data key is：2017-02-13\n"
     ]
    },
    {
     "name": "stderr",
     "output_type": "stream",
     "text": [
      "\r",
      " 91%|████████████████████████████████████████████████████████████████████████▋       | 405/446 [00:12<00:01, 31.68it/s]"
     ]
    },
    {
     "name": "stdout",
     "output_type": "stream",
     "text": [
      "data key is：2017-02-12\n",
      "data key is：2017-02-11\n",
      "data key is：2017-02-10\n",
      "data key is：2017-02-09\n"
     ]
    },
    {
     "name": "stderr",
     "output_type": "stream",
     "text": [
      "\r",
      " 92%|█████████████████████████████████████████████████████████████████████████▎      | 409/446 [00:12<00:01, 33.73it/s]"
     ]
    },
    {
     "name": "stdout",
     "output_type": "stream",
     "text": [
      "data key is：2017-02-08\n",
      "data key is：2017-02-07\n",
      "data key is：2017-02-06\n",
      "data key is：2017-02-05\n"
     ]
    },
    {
     "name": "stderr",
     "output_type": "stream",
     "text": [
      "\r",
      " 93%|██████████████████████████████████████████████████████████████████████████      | 413/446 [00:12<00:00, 34.42it/s]"
     ]
    },
    {
     "name": "stdout",
     "output_type": "stream",
     "text": [
      "data key is：2017-02-04\n",
      "data key is：2017-02-03\n",
      "data key is：2017-02-02\n",
      "data key is：2017-02-01\n"
     ]
    },
    {
     "name": "stderr",
     "output_type": "stream",
     "text": [
      "\r",
      " 93%|██████████████████████████████████████████████████████████████████████████▊     | 417/446 [00:12<00:00, 32.85it/s]"
     ]
    },
    {
     "name": "stdout",
     "output_type": "stream",
     "text": [
      "data key is：2017-01-31\n",
      "data key is：2017-01-30\n",
      "data key is：2017-01-29\n",
      "data key is：2017-01-28\n"
     ]
    },
    {
     "name": "stderr",
     "output_type": "stream",
     "text": [
      "\r",
      " 94%|███████████████████████████████████████████████████████████████████████████▌    | 421/446 [00:13<00:00, 32.31it/s]"
     ]
    },
    {
     "name": "stdout",
     "output_type": "stream",
     "text": [
      "data key is：2017-01-27\n",
      "data key is：2017-01-26\n",
      "data key is：2017-01-25\n",
      "data key is：2017-01-24\n"
     ]
    },
    {
     "name": "stderr",
     "output_type": "stream",
     "text": [
      "\r",
      " 95%|████████████████████████████████████████████████████████████████████████████▏   | 425/446 [00:13<00:00, 31.70it/s]"
     ]
    },
    {
     "name": "stdout",
     "output_type": "stream",
     "text": [
      "data key is：2017-01-23\n",
      "data key is：2017-01-22\n",
      "data key is：2017-01-21\n",
      "data key is：2017-01-20\n"
     ]
    },
    {
     "name": "stderr",
     "output_type": "stream",
     "text": [
      "\r",
      " 96%|████████████████████████████████████████████████████████████████████████████▉   | 429/446 [00:13<00:00, 33.00it/s]"
     ]
    },
    {
     "name": "stdout",
     "output_type": "stream",
     "text": [
      "data key is：2017-01-19\n",
      "data key is：2017-01-18\n",
      "data key is：2017-01-17\n",
      "data key is：2017-01-16\n"
     ]
    },
    {
     "name": "stderr",
     "output_type": "stream",
     "text": [
      "\r",
      " 97%|█████████████████████████████████████████████████████████████████████████████▋  | 433/446 [00:13<00:00, 31.71it/s]"
     ]
    },
    {
     "name": "stdout",
     "output_type": "stream",
     "text": [
      "data key is：2017-01-15\n",
      "data key is：2017-01-14\n",
      "data key is：2017-01-13\n",
      "data key is：2017-01-12\n"
     ]
    },
    {
     "name": "stderr",
     "output_type": "stream",
     "text": [
      "\r",
      " 98%|██████████████████████████████████████████████████████████████████████████████▍ | 437/446 [00:13<00:00, 32.59it/s]"
     ]
    },
    {
     "name": "stdout",
     "output_type": "stream",
     "text": [
      "data key is：2017-01-11\n",
      "data key is：2017-01-10\n",
      "data key is：2017-01-09\n",
      "data key is：2017-01-08\n"
     ]
    },
    {
     "name": "stderr",
     "output_type": "stream",
     "text": [
      "\r",
      " 99%|███████████████████████████████████████████████████████████████████████████████ | 441/446 [00:13<00:00, 32.76it/s]"
     ]
    },
    {
     "name": "stdout",
     "output_type": "stream",
     "text": [
      "data key is：2017-01-07\n",
      "data key is：2017-01-06\n",
      "data key is：2017-01-05\n",
      "data key is：2017-01-04\n"
     ]
    },
    {
     "name": "stderr",
     "output_type": "stream",
     "text": [
      "\r",
      "100%|███████████████████████████████████████████████████████████████████████████████▊| 445/446 [00:13<00:00, 32.09it/s]"
     ]
    },
    {
     "name": "stdout",
     "output_type": "stream",
     "text": [
      "data key is：2017-01-03\n"
     ]
    },
    {
     "name": "stderr",
     "output_type": "stream",
     "text": [
      "100%|████████████████████████████████████████████████████████████████████████████████| 446/446 [00:13<00:00, 32.08it/s]\n"
     ]
    }
   ],
   "source": [
    "data_feat = []\n",
    "if os.path.exists(data_feat_url):\n",
    "    data_feat = pd.read_hdf(data_feat_url, 'w')\n",
    "else:\n",
    "    for i in tqdm(range(days)):\n",
    "#         data_feat.append(make_feat(date_add_days(start_date, i*(-1)), replace = True))\n",
    "        data_feat.append(make_feat(date_add_days(start_date, i*(-1))))\n",
    "    data_feat = pd.concat(data_feat,axis=0)\n",
    "    data_feat.to_hdf(data_feat_url, 'w', complib='blosc', complevel=5)"
   ]
  },
  {
   "cell_type": "code",
   "execution_count": 7,
   "metadata": {},
   "outputs": [
    {
     "data": {
      "text/plain": [
       "('2017-01-03 00:00:00', '2018-03-25 23:00:00')"
      ]
     },
     "execution_count": 7,
     "metadata": {},
     "output_type": "execute_result"
    }
   ],
   "source": [
    "data_feat['time'].min(), data_feat['time'].max()"
   ]
  },
  {
   "cell_type": "code",
   "execution_count": 5,
   "metadata": {},
   "outputs": [
    {
     "data": {
      "text/plain": [
       "False"
      ]
     },
     "execution_count": 5,
     "metadata": {},
     "output_type": "execute_result"
    }
   ],
   "source": [
    "data_feat.isnull().any().any()"
   ]
  },
  {
   "cell_type": "code",
   "execution_count": 6,
   "metadata": {},
   "outputs": [
    {
     "data": {
      "text/plain": [
       "Index([], dtype='object')"
      ]
     },
     "execution_count": 6,
     "metadata": {},
     "output_type": "execute_result"
    }
   ],
   "source": [
    "data_feat.columns[data_feat.isnull().any()]"
   ]
  },
  {
   "cell_type": "code",
   "execution_count": null,
   "metadata": {},
   "outputs": [],
   "source": []
  }
 ],
 "metadata": {
  "kernelspec": {
   "display_name": "Python 3",
   "language": "python",
   "name": "python3"
  },
  "language_info": {
   "codemirror_mode": {
    "name": "ipython",
    "version": 3
   },
   "file_extension": ".py",
   "mimetype": "text/x-python",
   "name": "python",
   "nbconvert_exporter": "python",
   "pygments_lexer": "ipython3",
   "version": "3.5.5"
  }
 },
 "nbformat": 4,
 "nbformat_minor": 2
}
