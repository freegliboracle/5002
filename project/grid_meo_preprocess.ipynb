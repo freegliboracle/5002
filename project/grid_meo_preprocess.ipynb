{
 "cells": [
  {
   "cell_type": "code",
   "execution_count": 16,
   "metadata": {},
   "outputs": [],
   "source": [
    "import os\n",
    "import datetime\n",
    "import numpy as np\n",
    "import pandas as pd\n",
    "from dateutil.parser import parse\n",
    "from datetime import timedelta, datetime"
   ]
  },
  {
   "cell_type": "code",
   "execution_count": 2,
   "metadata": {},
   "outputs": [],
   "source": [
    "# grid meo\n",
    "data_path = './data/'"
   ]
  },
  {
   "cell_type": "code",
   "execution_count": 3,
   "metadata": {},
   "outputs": [],
   "source": [
    "grid_meo_dataset = pd.read_hdf(data_path+'meo_grid.hdf')"
   ]
  },
  {
   "cell_type": "code",
   "execution_count": 4,
   "metadata": {},
   "outputs": [
    {
     "data": {
      "text/plain": [
       "(7529400, 7)"
      ]
     },
     "execution_count": 4,
     "metadata": {},
     "output_type": "execute_result"
    }
   ],
   "source": [
    "grid_meo_dataset.shape"
   ]
  },
  {
   "cell_type": "code",
   "execution_count": 5,
   "metadata": {},
   "outputs": [
    {
     "data": {
      "text/html": [
       "<div>\n",
       "<style scoped>\n",
       "    .dataframe tbody tr th:only-of-type {\n",
       "        vertical-align: middle;\n",
       "    }\n",
       "\n",
       "    .dataframe tbody tr th {\n",
       "        vertical-align: top;\n",
       "    }\n",
       "\n",
       "    .dataframe thead th {\n",
       "        text-align: right;\n",
       "    }\n",
       "</style>\n",
       "<table border=\"1\" class=\"dataframe\">\n",
       "  <thead>\n",
       "    <tr style=\"text-align: right;\">\n",
       "      <th></th>\n",
       "      <th>station_id</th>\n",
       "      <th>time</th>\n",
       "      <th>temperature</th>\n",
       "      <th>pressure</th>\n",
       "      <th>humidity</th>\n",
       "      <th>wind_direction</th>\n",
       "      <th>wind_speed</th>\n",
       "    </tr>\n",
       "  </thead>\n",
       "  <tbody>\n",
       "    <tr>\n",
       "      <th>0</th>\n",
       "      <td>beijing_grid_000</td>\n",
       "      <td>2017-01-01 00:00:00</td>\n",
       "      <td>-5.47</td>\n",
       "      <td>984.73</td>\n",
       "      <td>76.60</td>\n",
       "      <td>53.71</td>\n",
       "      <td>3.53</td>\n",
       "    </tr>\n",
       "    <tr>\n",
       "      <th>1</th>\n",
       "      <td>beijing_grid_001</td>\n",
       "      <td>2017-01-01 00:00:00</td>\n",
       "      <td>-5.53</td>\n",
       "      <td>979.33</td>\n",
       "      <td>75.40</td>\n",
       "      <td>43.59</td>\n",
       "      <td>3.11</td>\n",
       "    </tr>\n",
       "    <tr>\n",
       "      <th>2</th>\n",
       "      <td>beijing_grid_002</td>\n",
       "      <td>2017-01-01 00:00:00</td>\n",
       "      <td>-5.70</td>\n",
       "      <td>963.14</td>\n",
       "      <td>71.80</td>\n",
       "      <td>0.97</td>\n",
       "      <td>2.75</td>\n",
       "    </tr>\n",
       "    <tr>\n",
       "      <th>3</th>\n",
       "      <td>beijing_grid_003</td>\n",
       "      <td>2017-01-01 00:00:00</td>\n",
       "      <td>-5.88</td>\n",
       "      <td>946.94</td>\n",
       "      <td>68.20</td>\n",
       "      <td>327.65</td>\n",
       "      <td>3.84</td>\n",
       "    </tr>\n",
       "    <tr>\n",
       "      <th>4</th>\n",
       "      <td>beijing_grid_004</td>\n",
       "      <td>2017-01-01 00:00:00</td>\n",
       "      <td>-5.34</td>\n",
       "      <td>928.80</td>\n",
       "      <td>58.81</td>\n",
       "      <td>317.85</td>\n",
       "      <td>6.14</td>\n",
       "    </tr>\n",
       "  </tbody>\n",
       "</table>\n",
       "</div>"
      ],
      "text/plain": [
       "         station_id                 time  temperature  pressure  humidity  \\\n",
       "0  beijing_grid_000  2017-01-01 00:00:00        -5.47    984.73     76.60   \n",
       "1  beijing_grid_001  2017-01-01 00:00:00        -5.53    979.33     75.40   \n",
       "2  beijing_grid_002  2017-01-01 00:00:00        -5.70    963.14     71.80   \n",
       "3  beijing_grid_003  2017-01-01 00:00:00        -5.88    946.94     68.20   \n",
       "4  beijing_grid_004  2017-01-01 00:00:00        -5.34    928.80     58.81   \n",
       "\n",
       "   wind_direction  wind_speed  \n",
       "0           53.71        3.53  \n",
       "1           43.59        3.11  \n",
       "2            0.97        2.75  \n",
       "3          327.65        3.84  \n",
       "4          317.85        6.14  "
      ]
     },
     "execution_count": 5,
     "metadata": {},
     "output_type": "execute_result"
    }
   ],
   "source": [
    "grid_meo_dataset.head()"
   ]
  },
  {
   "cell_type": "code",
   "execution_count": 6,
   "metadata": {},
   "outputs": [
    {
     "data": {
      "text/plain": [
       "station_id        False\n",
       "time              False\n",
       "temperature       False\n",
       "pressure          False\n",
       "humidity          False\n",
       "wind_direction    False\n",
       "wind_speed        False\n",
       "dtype: bool"
      ]
     },
     "execution_count": 6,
     "metadata": {},
     "output_type": "execute_result"
    }
   ],
   "source": [
    "grid_meo_dataset.isnull().any()"
   ]
  },
  {
   "cell_type": "markdown",
   "metadata": {},
   "source": [
    "there is no missing value in all columns of grid_meo_dataset"
   ]
  },
  {
   "cell_type": "markdown",
   "metadata": {},
   "source": [
    "check if there is missing hour"
   ]
  },
  {
   "cell_type": "code",
   "execution_count": 7,
   "metadata": {},
   "outputs": [
    {
     "data": {
      "text/plain": [
       "11567"
      ]
     },
     "execution_count": 7,
     "metadata": {},
     "output_type": "execute_result"
    }
   ],
   "source": [
    "all_time = set(grid_meo_dataset['time'])\n",
    "len(all_time)"
   ]
  },
  {
   "cell_type": "code",
   "execution_count": 8,
   "metadata": {},
   "outputs": [
    {
     "data": {
      "text/plain": [
       "('2017-01-01 00:00:00', '2018-05-02 23:00:00')"
      ]
     },
     "execution_count": 8,
     "metadata": {},
     "output_type": "execute_result"
    }
   ],
   "source": [
    "min_time = grid_meo_dataset['time'].min()\n",
    "max_time = grid_meo_dataset['time'].max()\n",
    "min_time, max_time"
   ]
  },
  {
   "cell_type": "code",
   "execution_count": 9,
   "metadata": {},
   "outputs": [
    {
     "data": {
      "text/plain": [
       "11688"
      ]
     },
     "execution_count": 9,
     "metadata": {},
     "output_type": "execute_result"
    }
   ],
   "source": [
    "hours_should = len(pd.date_range(min_time, max_time, freq='H'))\n",
    "hours_should"
   ]
  },
  {
   "cell_type": "code",
   "execution_count": 10,
   "metadata": {},
   "outputs": [
    {
     "data": {
      "text/plain": [
       "False"
      ]
     },
     "execution_count": 10,
     "metadata": {},
     "output_type": "execute_result"
    }
   ],
   "source": [
    "hours_should == len(all_time)"
   ]
  },
  {
   "cell_type": "markdown",
   "metadata": {},
   "source": [
    "there are some missing hours"
   ]
  },
  {
   "cell_type": "code",
   "execution_count": 11,
   "metadata": {},
   "outputs": [
    {
     "data": {
      "text/plain": [
       "False"
      ]
     },
     "execution_count": 11,
     "metadata": {},
     "output_type": "execute_result"
    }
   ],
   "source": [
    "(grid_meo_dataset['wind_direction'] == 999017).any()"
   ]
  },
  {
   "cell_type": "markdown",
   "metadata": {},
   "source": [
    "there is no wind_direction with value 999017"
   ]
  },
  {
   "cell_type": "code",
   "execution_count": 14,
   "metadata": {},
   "outputs": [
    {
     "name": "stdout",
     "output_type": "stream",
     "text": [
      "121 hours are missing\n"
     ]
    }
   ],
   "source": [
    "print('{} hours are missing'.format(hours_should - len(all_time)))"
   ]
  },
  {
   "cell_type": "code",
   "execution_count": 17,
   "metadata": {},
   "outputs": [],
   "source": [
    "def date_add_hours(start_date, hours):\n",
    "    end_date = parse(start_date) + timedelta(hours=hours)\n",
    "    end_date = end_date.strftime('%Y-%m-%d %H:%M:%S')\n",
    "    return end_date"
   ]
  },
  {
   "cell_type": "code",
   "execution_count": 18,
   "metadata": {},
   "outputs": [],
   "source": [
    "time = min_time\n",
    "missing_hours = []\n",
    "while time <=  max_time:\n",
    "    if time not in all_time:\n",
    "        missing_hours.append(time)\n",
    "    time = date_add_hours(time,1)"
   ]
  },
  {
   "cell_type": "code",
   "execution_count": 19,
   "metadata": {},
   "outputs": [
    {
     "data": {
      "text/plain": [
       "121"
      ]
     },
     "execution_count": 19,
     "metadata": {},
     "output_type": "execute_result"
    }
   ],
   "source": [
    "len(missing_hours)"
   ]
  },
  {
   "cell_type": "code",
   "execution_count": 20,
   "metadata": {},
   "outputs": [
    {
     "data": {
      "text/plain": [
       "['2018-03-27 06:00:00',\n",
       " '2018-03-27 07:00:00',\n",
       " '2018-03-27 08:00:00',\n",
       " '2018-03-27 09:00:00',\n",
       " '2018-03-27 10:00:00',\n",
       " '2018-03-27 11:00:00',\n",
       " '2018-03-27 12:00:00',\n",
       " '2018-03-27 13:00:00',\n",
       " '2018-03-27 14:00:00',\n",
       " '2018-03-27 15:00:00',\n",
       " '2018-03-27 16:00:00',\n",
       " '2018-03-27 17:00:00',\n",
       " '2018-03-27 18:00:00',\n",
       " '2018-03-27 19:00:00',\n",
       " '2018-03-27 20:00:00',\n",
       " '2018-03-27 21:00:00',\n",
       " '2018-03-27 22:00:00',\n",
       " '2018-03-27 23:00:00',\n",
       " '2018-03-28 00:00:00',\n",
       " '2018-03-28 01:00:00',\n",
       " '2018-03-28 02:00:00',\n",
       " '2018-03-28 03:00:00',\n",
       " '2018-03-28 04:00:00',\n",
       " '2018-03-28 05:00:00',\n",
       " '2018-03-28 06:00:00',\n",
       " '2018-03-28 07:00:00',\n",
       " '2018-03-28 08:00:00',\n",
       " '2018-03-28 09:00:00',\n",
       " '2018-03-28 10:00:00',\n",
       " '2018-03-28 11:00:00',\n",
       " '2018-03-28 12:00:00',\n",
       " '2018-03-28 13:00:00',\n",
       " '2018-03-28 14:00:00',\n",
       " '2018-03-28 15:00:00',\n",
       " '2018-03-28 16:00:00',\n",
       " '2018-03-28 17:00:00',\n",
       " '2018-03-28 18:00:00',\n",
       " '2018-03-28 19:00:00',\n",
       " '2018-03-28 20:00:00',\n",
       " '2018-03-28 21:00:00',\n",
       " '2018-03-28 22:00:00',\n",
       " '2018-03-28 23:00:00',\n",
       " '2018-03-29 00:00:00',\n",
       " '2018-03-29 01:00:00',\n",
       " '2018-03-29 02:00:00',\n",
       " '2018-03-29 03:00:00',\n",
       " '2018-03-29 04:00:00',\n",
       " '2018-03-29 05:00:00',\n",
       " '2018-03-29 06:00:00',\n",
       " '2018-03-29 07:00:00',\n",
       " '2018-03-29 08:00:00',\n",
       " '2018-03-29 09:00:00',\n",
       " '2018-03-29 10:00:00',\n",
       " '2018-03-29 11:00:00',\n",
       " '2018-03-29 12:00:00',\n",
       " '2018-03-29 13:00:00',\n",
       " '2018-03-29 14:00:00',\n",
       " '2018-03-29 15:00:00',\n",
       " '2018-03-29 16:00:00',\n",
       " '2018-03-29 17:00:00',\n",
       " '2018-03-29 18:00:00',\n",
       " '2018-03-29 19:00:00',\n",
       " '2018-03-29 20:00:00',\n",
       " '2018-03-29 21:00:00',\n",
       " '2018-03-29 22:00:00',\n",
       " '2018-03-29 23:00:00',\n",
       " '2018-03-30 00:00:00',\n",
       " '2018-03-30 01:00:00',\n",
       " '2018-03-30 02:00:00',\n",
       " '2018-03-30 03:00:00',\n",
       " '2018-03-30 04:00:00',\n",
       " '2018-03-30 05:00:00',\n",
       " '2018-03-30 06:00:00',\n",
       " '2018-03-30 07:00:00',\n",
       " '2018-03-30 08:00:00',\n",
       " '2018-03-30 09:00:00',\n",
       " '2018-03-30 10:00:00',\n",
       " '2018-03-30 11:00:00',\n",
       " '2018-03-30 12:00:00',\n",
       " '2018-03-30 13:00:00',\n",
       " '2018-03-30 14:00:00',\n",
       " '2018-03-30 15:00:00',\n",
       " '2018-03-30 16:00:00',\n",
       " '2018-03-30 17:00:00',\n",
       " '2018-03-30 18:00:00',\n",
       " '2018-03-30 19:00:00',\n",
       " '2018-03-30 20:00:00',\n",
       " '2018-03-30 21:00:00',\n",
       " '2018-03-30 22:00:00',\n",
       " '2018-03-30 23:00:00',\n",
       " '2018-03-31 00:00:00',\n",
       " '2018-03-31 01:00:00',\n",
       " '2018-03-31 02:00:00',\n",
       " '2018-03-31 03:00:00',\n",
       " '2018-03-31 04:00:00',\n",
       " '2018-03-31 05:00:00',\n",
       " '2018-03-31 06:00:00',\n",
       " '2018-03-31 07:00:00',\n",
       " '2018-03-31 08:00:00',\n",
       " '2018-03-31 09:00:00',\n",
       " '2018-03-31 10:00:00',\n",
       " '2018-03-31 11:00:00',\n",
       " '2018-03-31 12:00:00',\n",
       " '2018-03-31 13:00:00',\n",
       " '2018-03-31 14:00:00',\n",
       " '2018-03-31 15:00:00',\n",
       " '2018-03-31 16:00:00',\n",
       " '2018-03-31 17:00:00',\n",
       " '2018-03-31 18:00:00',\n",
       " '2018-03-31 19:00:00',\n",
       " '2018-03-31 20:00:00',\n",
       " '2018-03-31 21:00:00',\n",
       " '2018-03-31 22:00:00',\n",
       " '2018-03-31 23:00:00',\n",
       " '2018-04-01 16:00:00',\n",
       " '2018-04-07 03:00:00',\n",
       " '2018-04-12 04:00:00',\n",
       " '2018-04-12 05:00:00',\n",
       " '2018-04-19 06:00:00',\n",
       " '2018-04-19 07:00:00',\n",
       " '2018-04-30 13:00:00']"
      ]
     },
     "execution_count": 20,
     "metadata": {},
     "output_type": "execute_result"
    }
   ],
   "source": [
    "missing_hours"
   ]
  },
  {
   "cell_type": "markdown",
   "metadata": {},
   "source": [
    "missing hours happen after 2018-3-27 and happen in consecutive hours, so it is better to get the real data for the corresponding hours instead of estimating the data. For now, do not fill in missing hour for grid meo data."
   ]
  },
  {
   "cell_type": "code",
   "execution_count": null,
   "metadata": {},
   "outputs": [],
   "source": []
  }
 ],
 "metadata": {
  "kernelspec": {
   "display_name": "Python 3",
   "language": "python",
   "name": "python3"
  },
  "language_info": {
   "codemirror_mode": {
    "name": "ipython",
    "version": 3
   },
   "file_extension": ".py",
   "mimetype": "text/x-python",
   "name": "python",
   "nbconvert_exporter": "python",
   "pygments_lexer": "ipython3",
   "version": "3.5.5"
  }
 },
 "nbformat": 4,
 "nbformat_minor": 2
}
