{
 "cells": [
  {
   "cell_type": "code",
   "execution_count": 1,
   "metadata": {},
   "outputs": [],
   "source": [
    "# this version go through both training and testing process\n",
    "# need improvement\n",
    "import os\n",
    "import pickle\n",
    "import numpy as np\n",
    "import pandas as pd\n",
    "from util import station_info, date_add_days, make_feat"
   ]
  },
  {
   "cell_type": "code",
   "execution_count": 2,
   "metadata": {},
   "outputs": [],
   "source": [
    "data_path = './data/'\n",
    "feature_path = './feature/'"
   ]
  },
  {
   "cell_type": "code",
   "execution_count": 3,
   "metadata": {},
   "outputs": [],
   "source": [
    "model_dict,predictors = pickle.load(open(data_path+'lightgbm.model', 'rb+'))"
   ]
  },
  {
   "cell_type": "code",
   "execution_count": 4,
   "metadata": {},
   "outputs": [],
   "source": [
    "# generate test set\n",
    "def get_test_feat(date):\n",
    "#     test_feat = make_feat(date_add_days(date[:10],1),replace=True)\n",
    "    test_feat = make_feat(date_add_days(date[:10],1))\n",
    "    test_feat = pd.concat([data_feat[:0],test_feat])\n",
    "    return test_feat"
   ]
  },
  {
   "cell_type": "code",
   "execution_count": 5,
   "metadata": {},
   "outputs": [],
   "source": [
    "# generate prediction for test set\n",
    "def get_submission(test_feat,model_dict,decode):\n",
    "    for label in ['PM2.5', 'PM10', 'O3']:\n",
    "        pred = model_dict[label].predict(test_feat[predictors])\n",
    "        test_feat[label] = decode[label](pred)\n",
    "#     test_feat['test_id'] = test_feat['station_id'].apply(lambda x: x if len(x)<11 else x[:10])\n",
    "    test_feat['test_id'] = test_feat['station_id']\n",
    "    test_feat['test_id'] = list(map(lambda y: y+'_aq', test_feat['test_id']))\n",
    "    test_feat['test_id'] = test_feat['test_id'] + '#' + test_feat['diff_of_hour'].astype(int).astype(str)\n",
    "    submission = pd.read_csv(data_path + 'sample_submission.csv')\n",
    "    submission = submission[['test_id']].merge(test_feat[['test_id','PM2.5','PM10','O3']],on='test_id',how='left')\n",
    "    if (submission[['PM2.5','PM10','O3']]<0).sum().sum()>0:\n",
    "        print('negative value!')\n",
    "    return submission"
   ]
  },
  {
   "cell_type": "code",
   "execution_count": 6,
   "metadata": {},
   "outputs": [],
   "source": [
    "start_date = '2018-03-24'\n",
    "# range of days to compute feature\n",
    "days = 446\n",
    "data_feat_url = feature_path + 'data_feat_{}_{}days.hdf'.format(start_date,days)\n",
    "data_feat = pd.read_hdf(data_feat_url, 'w')"
   ]
  },
  {
   "cell_type": "code",
   "execution_count": 7,
   "metadata": {},
   "outputs": [],
   "source": [
    "def f1(x): return np.log(x+1)\n",
    "def f2(x): return np.log(x+1)\n",
    "def f3(x): return np.log(x+100)\n",
    "def f4(x): return np.exp(x)-1\n",
    "def f5(x): return np.exp(x)-1\n",
    "def f6(x): return np.exp(x)-100\n",
    "encode = {'PM2.5':f1,'PM10':f2,'O3':f3}\n",
    "decode = {'PM2.5':f4,'PM10':f5,'O3':f6}"
   ]
  },
  {
   "cell_type": "code",
   "execution_count": 8,
   "metadata": {},
   "outputs": [],
   "source": [
    "utc_date ='2017-04-30'"
   ]
  },
  {
   "cell_type": "code",
   "execution_count": 9,
   "metadata": {},
   "outputs": [
    {
     "name": "stdout",
     "output_type": "stream",
     "text": [
      "data key is：2017-05-01\n"
     ]
    }
   ],
   "source": [
    "test_feat = get_test_feat(utc_date)"
   ]
  },
  {
   "cell_type": "code",
   "execution_count": 10,
   "metadata": {},
   "outputs": [],
   "source": [
    "test_feat_copy = test_feat.copy()"
   ]
  },
  {
   "cell_type": "code",
   "execution_count": 11,
   "metadata": {},
   "outputs": [],
   "source": [
    "submission = get_submission(test_feat,model_dict, decode)"
   ]
  },
  {
   "cell_type": "code",
   "execution_count": 12,
   "metadata": {},
   "outputs": [],
   "source": [
    "sub_url = r'./submission.csv'\n",
    "submission.to_csv(sub_url,index=False,  float_format='%.4f')"
   ]
  },
  {
   "cell_type": "code",
   "execution_count": 13,
   "metadata": {},
   "outputs": [],
   "source": [
    "def smape(actual, predicted):\n",
    "    dividend= np.abs(np.array(actual) - np.array(predicted))\n",
    "    denominator = np.array(actual) + np.array(predicted)\n",
    "    \n",
    "    return 2 * np.mean(np.divide(dividend, denominator, out=np.zeros_like(dividend), where=denominator!=0, casting='unsafe'))"
   ]
  },
  {
   "cell_type": "code",
   "execution_count": 14,
   "metadata": {},
   "outputs": [
    {
     "data": {
      "text/plain": [
       "0.27050251376602563"
      ]
     },
     "execution_count": 14,
     "metadata": {},
     "output_type": "execute_result"
    }
   ],
   "source": [
    "# label = 'O3'\n",
    "sma = 0\n",
    "for label in ['PM2.5', 'PM10', 'O3']:\n",
    "    sma += smape(test_feat_copy[label].fillna(0), submission[label])\n",
    "sma/3"
   ]
  },
  {
   "cell_type": "code",
   "execution_count": null,
   "metadata": {},
   "outputs": [],
   "source": []
  }
 ],
 "metadata": {
  "kernelspec": {
   "display_name": "Python 3",
   "language": "python",
   "name": "python3"
  },
  "language_info": {
   "codemirror_mode": {
    "name": "ipython",
    "version": 3
   },
   "file_extension": ".py",
   "mimetype": "text/x-python",
   "name": "python",
   "nbconvert_exporter": "python",
   "pygments_lexer": "ipython3",
   "version": "3.5.5"
  }
 },
 "nbformat": 4,
 "nbformat_minor": 2
}
